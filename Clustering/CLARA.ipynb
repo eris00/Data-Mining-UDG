{
 "cells": [
  {
   "cell_type": "code",
   "execution_count": 1,
   "metadata": {
    "collapsed": true,
    "ExecuteTime": {
     "end_time": "2023-06-06T02:49:23.501003300Z",
     "start_time": "2023-06-06T02:49:22.596631500Z"
    }
   },
   "outputs": [],
   "source": [
    "from sklearn.datasets import make_blobs\n",
    "from sklearn.cluster import AgglomerativeClustering\n",
    "import numpy as np"
   ]
  },
  {
   "cell_type": "code",
   "execution_count": 2,
   "outputs": [],
   "source": [
    "# Generisanje slučajnog skupa podataka\n",
    "X, _ = make_blobs(n_samples=100, centers=3, random_state=0)"
   ],
   "metadata": {
    "collapsed": false,
    "ExecuteTime": {
     "end_time": "2023-06-06T02:49:25.677130600Z",
     "start_time": "2023-06-06T02:49:25.651514300Z"
    }
   }
  },
  {
   "cell_type": "code",
   "execution_count": 4,
   "outputs": [],
   "source": [
    "# Funkcija za izračunavanje CLARA klasterovanja\n",
    "def clara(X, k, num_replicas):\n",
    "    n_samples = X.shape[0]\n",
    "    sample_indices = np.random.choice(range(n_samples), size=min(40, n_samples), replace=False)\n",
    "\n",
    "    best_cost = float('inf')\n",
    "    best_labels = None\n",
    "\n",
    "    for i in range(num_replicas):\n",
    "        indices = np.random.choice(sample_indices, size=min(5, len(sample_indices)), replace=False)\n",
    "        representative_samples = X[indices]\n",
    "        clustering = AgglomerativeClustering(n_clusters=k).fit(X)\n",
    "\n",
    "        labels = clustering.labels_\n",
    "        cost = calculate_cost(X, labels, representative_samples)\n",
    "\n",
    "        if cost < best_cost:\n",
    "            best_cost = cost\n",
    "            best_labels = labels\n",
    "\n",
    "    return best_labels"
   ],
   "metadata": {
    "collapsed": false,
    "ExecuteTime": {
     "end_time": "2023-06-06T02:49:50.713224700Z",
     "start_time": "2023-06-06T02:49:50.700421900Z"
    }
   }
  },
  {
   "cell_type": "code",
   "execution_count": 6,
   "outputs": [],
   "source": [
    "# Funkcija za izračunavanje troška CLARA klasterovanja\n",
    "def calculate_cost(X, labels, representative_samples):\n",
    "    cost = 0\n",
    "    for i, sample in enumerate(X):\n",
    "        min_distance = float('inf')\n",
    "        for representative in representative_samples:\n",
    "            distance = np.linalg.norm(sample - representative)\n",
    "            if distance < min_distance:\n",
    "                min_distance = distance\n",
    "        cost += min_distance\n",
    "    return cost"
   ],
   "metadata": {
    "collapsed": false,
    "ExecuteTime": {
     "end_time": "2023-06-06T02:50:14.127137700Z",
     "start_time": "2023-06-06T02:50:14.117087100Z"
    }
   }
  },
  {
   "cell_type": "code",
   "execution_count": 7,
   "outputs": [],
   "source": [
    "# Primjena CLARA algoritma na generisani skup podataka\n",
    "k = 3\n",
    "num_replicas = 5\n",
    "labels = clara(X, k, num_replicas)"
   ],
   "metadata": {
    "collapsed": false,
    "ExecuteTime": {
     "end_time": "2023-06-06T02:50:21.064277400Z",
     "start_time": "2023-06-06T02:50:20.999371600Z"
    }
   }
  },
  {
   "cell_type": "code",
   "execution_count": 8,
   "outputs": [
    {
     "name": "stdout",
     "output_type": "stream",
     "text": [
      "Klasteri:\n",
      "Cluster 1:\n",
      "[2.63185834 0.6893649 ]\n",
      "[3.00251949 0.74265357]\n",
      "[-0.07228289  2.88376939]\n",
      "[2.72756228 1.3051255 ]\n",
      "[ 2.52092996 -0.63858003]\n",
      "[3.92282648 1.80370832]\n",
      "[0.1631238  2.57750473]\n",
      "[0.08848433 2.32299086]\n",
      "[0.9845149  1.95211539]\n",
      "[2.18217961 1.29965302]\n",
      "[1.28535145 1.43691285]\n",
      "[0.89011768 1.79849015]\n",
      "[3.54351972 2.79355284]\n",
      "[1.64164854 0.15020885]\n",
      "[1.38093486 0.92949422]\n",
      "[2.41163392 1.60423683]\n",
      "[2.45760916 0.21285357]\n",
      "[2.3535057  2.22404956]\n",
      "[1.18447037 0.318814  ]\n",
      "[1.36069966 0.74802912]\n",
      "[1.41942144 1.57409695]\n",
      "[2.2635425 1.8743027]\n",
      "[3.23404709 0.71773882]\n",
      "[2.06576754 2.68353415]\n",
      "[ 3.93841822 -0.4500954 ]\n",
      "[0.78478252 1.86706037]\n",
      "[1.65209057 2.12010873]\n",
      "[1.74371499 0.953829  ]\n",
      "[3.2460247  2.84942165]\n",
      "[3.97820955 2.37817845]\n",
      "[1.19404184 2.80772861]\n",
      "[2.11567076 3.06896151]\n",
      "[ 2.43169305 -0.20173713]\n",
      "[1.78726415 1.70012006]\n",
      "[0.88214412 2.84128485]\n",
      "[0.46546494 3.12315514]\n",
      "[2.66934689 1.81987033]\n",
      "[1.62011397 2.74692739]\n",
      "[ 2.45127423 -0.19539785]\n",
      "[1.28933778 3.44969159]\n",
      "[1.84070628 3.56162231]\n",
      "\n",
      "Cluster 2:\n",
      "[-2.67437267  2.48006222]\n",
      "[-2.27165884  2.09144372]\n",
      "[-1.62535654  2.25440397]\n",
      "[-1.59514562  4.63122498]\n",
      "[-2.63128735  2.97004734]\n",
      "[-2.17052242  0.69447911]\n",
      "[-1.56618683  1.74978876]\n",
      "[-0.88677249  1.30092622]\n",
      "[-1.89608585  2.67850308]\n",
      "[-1.98243652  2.93536142]\n",
      "[-2.26646701  4.46089686]\n",
      "[-0.40026809  1.83795075]\n",
      "[-2.43972624  4.03489855]\n",
      "[-2.02493646  4.84741432]\n",
      "[-0.6700734   2.26685667]\n",
      "[-2.81976092  3.18493313]\n",
      "[-2.33031368  2.22833248]\n",
      "[-3.01816161  3.35727396]\n",
      "[-2.52711936  1.37311116]\n",
      "[-1.57671974  4.95740592]\n",
      "[-1.88089792  1.54293097]\n",
      "[-2.56114686  3.59947678]\n",
      "[-2.84281142  2.45629766]\n",
      "[-0.90167256  1.31582461]\n",
      "[-2.75233953  3.76224524]\n",
      "\n",
      "Cluster 3:\n",
      "[0.08080352 4.69068983]\n",
      "[-0.63762777  4.09104705]\n",
      "[0.62835793 4.4601363 ]\n",
      "[-0.57748321  3.0054335 ]\n",
      "[0.34194798 3.94104616]\n",
      "[1.70536064 4.43277024]\n",
      "[2.20656076 5.50616718]\n",
      "[2.50904929 5.7731461 ]\n",
      "[-0.75511346  3.74138642]\n",
      "[1.12031365 5.75806083]\n",
      "[2.47034915 4.09862906]\n",
      "[0.85624076 3.86236175]\n",
      "[0.87305123 4.71438583]\n",
      "[-0.73000011  6.25456272]\n",
      "[1.1312175  4.68194985]\n",
      "[0.4666179  3.86571303]\n",
      "[-1.00362735  2.74633593]\n",
      "[0.63633194 4.25441021]\n",
      "[0.06897171 4.35573272]\n",
      "[1.0220286  4.11660348]\n",
      "[-1.36023052  3.5529137 ]\n",
      "[1.7373078  4.42546234]\n",
      "[1.9263585  4.15243012]\n",
      "[-0.60604519  3.23660991]\n",
      "[1.15369622 3.90200639]\n",
      "[0.30380963 3.94423417]\n",
      "[-0.27652528  5.08127768]\n",
      "[1.0427873  4.60625923]\n",
      "[-0.65392827  4.76656958]\n",
      "[1.42013331 4.63746165]\n",
      "[0.94808785 4.7321192 ]\n",
      "[0.58894326 4.00148458]\n",
      "[-0.42724442  3.57314599]\n",
      "[-0.33887422  3.23482487]\n",
      "\n"
     ]
    }
   ],
   "source": [
    "# Ispis rezultata\n",
    "print(\"Klasteri:\")\n",
    "for i in range(k):\n",
    "    cluster_points = X[labels == i]\n",
    "    print(f\"Cluster {i+1}:\")\n",
    "    for point in cluster_points:\n",
    "        print(point)\n",
    "    print()"
   ],
   "metadata": {
    "collapsed": false,
    "ExecuteTime": {
     "end_time": "2023-06-06T02:50:27.190197300Z",
     "start_time": "2023-06-06T02:50:27.161146600Z"
    }
   }
  },
  {
   "cell_type": "code",
   "execution_count": null,
   "outputs": [],
   "source": [],
   "metadata": {
    "collapsed": false
   }
  }
 ],
 "metadata": {
  "kernelspec": {
   "display_name": "Python 3",
   "language": "python",
   "name": "python3"
  },
  "language_info": {
   "codemirror_mode": {
    "name": "ipython",
    "version": 2
   },
   "file_extension": ".py",
   "mimetype": "text/x-python",
   "name": "python",
   "nbconvert_exporter": "python",
   "pygments_lexer": "ipython2",
   "version": "2.7.6"
  }
 },
 "nbformat": 4,
 "nbformat_minor": 0
}
