{
 "cells": [
  {
   "cell_type": "code",
   "execution_count": 1,
   "metadata": {
    "collapsed": true,
    "ExecuteTime": {
     "end_time": "2023-06-06T02:47:33.374878300Z",
     "start_time": "2023-06-06T02:47:32.625445500Z"
    }
   },
   "outputs": [],
   "source": [
    "from kmodes.kmodes import KModes\n",
    "import numpy as np"
   ]
  },
  {
   "cell_type": "code",
   "execution_count": 2,
   "outputs": [],
   "source": [
    "# Unos podataka\n",
    "data = np.array([[1, 2],\n",
    "                 [3, 4],\n",
    "                 [5, 6],\n",
    "                 [7, 8],\n",
    "                 [9, 10]])"
   ],
   "metadata": {
    "collapsed": false,
    "ExecuteTime": {
     "end_time": "2023-06-06T02:47:41.805595900Z",
     "start_time": "2023-06-06T02:47:41.778395500Z"
    }
   }
  },
  {
   "cell_type": "code",
   "execution_count": 3,
   "outputs": [],
   "source": [
    "# Parametri klasterovanja\n",
    "k = 2"
   ],
   "metadata": {
    "collapsed": false,
    "ExecuteTime": {
     "end_time": "2023-06-06T02:47:46.264588Z",
     "start_time": "2023-06-06T02:47:46.259036200Z"
    }
   }
  },
  {
   "cell_type": "code",
   "execution_count": 4,
   "outputs": [
    {
     "name": "stdout",
     "output_type": "stream",
     "text": [
      "Init: initializing centroids\n",
      "Init: initializing clusters\n",
      "Starting iterations...\n",
      "Run 1, iteration: 1/100, moves: 0, cost: 6.0\n",
      "Init: initializing centroids\n",
      "Init: initializing clusters\n",
      "Starting iterations...\n",
      "Run 2, iteration: 1/100, moves: 0, cost: 6.0\n",
      "Init: initializing centroids\n",
      "Init: initializing clusters\n",
      "Starting iterations...\n",
      "Run 3, iteration: 1/100, moves: 0, cost: 6.0\n",
      "Init: initializing centroids\n",
      "Init: initializing clusters\n",
      "Starting iterations...\n",
      "Run 4, iteration: 1/100, moves: 0, cost: 6.0\n",
      "Init: initializing centroids\n",
      "Init: initializing clusters\n",
      "Starting iterations...\n",
      "Run 5, iteration: 1/100, moves: 0, cost: 6.0\n",
      "Best run was number 1\n"
     ]
    }
   ],
   "source": [
    "# K-medians klasterovanje\n",
    "km = KModes(n_clusters=k, init='Huang', n_init=5, verbose=1)\n",
    "clusters = km.fit_predict(data)\n",
    "medians = km.cluster_centroids_"
   ],
   "metadata": {
    "collapsed": false,
    "ExecuteTime": {
     "end_time": "2023-06-06T02:47:52.236393100Z",
     "start_time": "2023-06-06T02:47:52.207414100Z"
    }
   }
  },
  {
   "cell_type": "code",
   "execution_count": 6,
   "outputs": [
    {
     "name": "stdout",
     "output_type": "stream",
     "text": [
      "Cluster 1:\n",
      "3\n",
      "4\n",
      "\n",
      "Cluster 2:\n",
      "1\n",
      "2\n",
      "\n",
      "Cluster 3:\n",
      "1\n",
      "2\n",
      "\n",
      "Cluster 4:\n",
      "1\n",
      "2\n",
      "\n",
      "Cluster 5:\n",
      "1\n",
      "2\n",
      "\n"
     ]
    }
   ],
   "source": [
    "# Ispis rezultata\n",
    "for i, cluster in enumerate(clusters):\n",
    "    print(f\"Cluster {i+1}:\")\n",
    "    cluster_data = data[cluster]\n",
    "    for point in cluster_data:\n",
    "        print(point)\n",
    "    print()\n",
    "\n"
   ],
   "metadata": {
    "collapsed": false,
    "ExecuteTime": {
     "end_time": "2023-06-06T02:48:13.991323800Z",
     "start_time": "2023-06-06T02:48:13.980762100Z"
    }
   }
  },
  {
   "cell_type": "code",
   "execution_count": 7,
   "outputs": [
    {
     "name": "stdout",
     "output_type": "stream",
     "text": [
      "Medians:\n",
      "[3 4]\n",
      "[1 2]\n"
     ]
    }
   ],
   "source": [
    "print(\"Medians:\")\n",
    "for median in medians:\n",
    "    print(median)"
   ],
   "metadata": {
    "collapsed": false,
    "ExecuteTime": {
     "end_time": "2023-06-06T02:48:19.784411Z",
     "start_time": "2023-06-06T02:48:19.779407300Z"
    }
   }
  },
  {
   "cell_type": "code",
   "execution_count": null,
   "outputs": [],
   "source": [],
   "metadata": {
    "collapsed": false
   }
  }
 ],
 "metadata": {
  "kernelspec": {
   "display_name": "Python 3",
   "language": "python",
   "name": "python3"
  },
  "language_info": {
   "codemirror_mode": {
    "name": "ipython",
    "version": 2
   },
   "file_extension": ".py",
   "mimetype": "text/x-python",
   "name": "python",
   "nbconvert_exporter": "python",
   "pygments_lexer": "ipython2",
   "version": "2.7.6"
  }
 },
 "nbformat": 4,
 "nbformat_minor": 0
}
