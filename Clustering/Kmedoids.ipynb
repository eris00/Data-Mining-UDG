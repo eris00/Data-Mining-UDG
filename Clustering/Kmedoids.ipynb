{
 "cells": [
  {
   "cell_type": "code",
   "execution_count": 18,
   "metadata": {
    "collapsed": true,
    "ExecuteTime": {
     "end_time": "2023-06-06T02:42:25.521994800Z",
     "start_time": "2023-06-06T02:42:25.516907300Z"
    }
   },
   "outputs": [],
   "source": [
    "import numpy as np\n",
    "import matplotlib.pyplot as plt"
   ]
  },
  {
   "cell_type": "code",
   "execution_count": 19,
   "outputs": [],
   "source": [
    "def kmedoids(X, K, initial_medoids, max_iters=100):\n",
    "    # Inicijalizacija medoida\n",
    "    medoids = initial_medoids.copy()\n",
    "\n",
    "    for _ in range(max_iters):\n",
    "        # Dodjela tačaka klasterima\n",
    "        distances = np.sum(np.abs(X[:, np.newaxis] - medoids), axis=2)\n",
    "        labels = np.argmin(distances, axis=1)\n",
    "\n",
    "        # Ažuriranje medoida\n",
    "        new_medoids = np.array([X[labels == k][np.argmin(np.sum(distances[labels == k], axis=1))] for k in range(K)])\n",
    "\n",
    "        # Provera da li su medoidi konvergirali\n",
    "        if np.all(medoids == new_medoids):\n",
    "            break\n",
    "\n",
    "        medoids = new_medoids\n",
    "\n",
    "    return labels, medoids"
   ],
   "metadata": {
    "collapsed": false,
    "ExecuteTime": {
     "end_time": "2023-06-06T02:42:25.535246400Z",
     "start_time": "2023-06-06T02:42:25.524994Z"
    }
   }
  },
  {
   "cell_type": "code",
   "execution_count": 20,
   "outputs": [],
   "source": [
    "# Unos dataseta\n",
    "X = np.array([[1, 2], [3, 4], [1, 1], [4, 5], [5, 4], [2, 2]])"
   ],
   "metadata": {
    "collapsed": false,
    "ExecuteTime": {
     "end_time": "2023-06-06T02:42:25.540178500Z",
     "start_time": "2023-06-06T02:42:25.535246400Z"
    }
   }
  },
  {
   "cell_type": "code",
   "execution_count": 21,
   "outputs": [],
   "source": [
    "# Unesite inicijalne medoide\n",
    "initial_medoids = np.array([[1, 1], [4, 5]])"
   ],
   "metadata": {
    "collapsed": false,
    "ExecuteTime": {
     "end_time": "2023-06-06T02:42:25.580867400Z",
     "start_time": "2023-06-06T02:42:25.543369900Z"
    }
   }
  },
  {
   "cell_type": "code",
   "execution_count": 22,
   "outputs": [],
   "source": [
    "# Pokretanje K-medoids algoritma\n",
    "K = len(initial_medoids)\n",
    "labels, medoids = kmedoids(X, K, initial_medoids)"
   ],
   "metadata": {
    "collapsed": false,
    "ExecuteTime": {
     "end_time": "2023-06-06T02:42:25.580867400Z",
     "start_time": "2023-06-06T02:42:25.549438300Z"
    }
   }
  },
  {
   "cell_type": "code",
   "execution_count": 23,
   "outputs": [
    {
     "data": {
      "text/plain": "<Figure size 640x480 with 1 Axes>",
      "image/png": "[encoded data removed]"
     },
     "metadata": {},
     "output_type": "display_data"
    }
   ],
   "source": [
    "# Prikaz rezultata\n",
    "colors = ['r', 'g', 'b']\n",
    "plt.scatter(X[:, 0], X[:, 1], c=[colors[l] for l in labels], edgecolors='k')\n",
    "plt.scatter(medoids[:, 0], medoids[:, 1], c='yellow', marker='x', s=100)\n",
    "plt.title('K-medoids klasterovanje')\n",
    "plt.xlabel('X')\n",
    "plt.ylabel('Y')\n",
    "plt.show()"
   ],
   "metadata": {
    "collapsed": false,
    "ExecuteTime": {
     "end_time": "2023-06-06T02:42:25.730310800Z",
     "start_time": "2023-06-06T02:42:25.557154700Z"
    }
   }
  },
  {
   "cell_type": "code",
   "execution_count": 24,
   "outputs": [
    {
     "name": "stdout",
     "output_type": "stream",
     "text": [
      "A1: Klasa 1\n",
      "A2: Klasa 2\n",
      "A3: Klasa 1\n",
      "A4: Klasa 2\n",
      "A5: Klasa 2\n",
      "A6: Klasa 1\n"
     ]
    }
   ],
   "source": [
    "# Ispisivanje klase za svaki podatak\n",
    "for i, label in enumerate(labels):\n",
    "    print(f\"A{i+1}: Klasa {label+1}\")"
   ],
   "metadata": {
    "collapsed": false,
    "ExecuteTime": {
     "end_time": "2023-06-06T02:42:25.738861400Z",
     "start_time": "2023-06-06T02:42:25.732309500Z"
    }
   }
  }
 ],
 "metadata": {
  "kernelspec": {
   "display_name": "Python 3",
   "language": "python",
   "name": "python3"
  },
  "language_info": {
   "codemirror_mode": {
    "name": "ipython",
    "version": 2
   },
   "file_extension": ".py",
   "mimetype": "text/x-python",
   "name": "python",
   "nbconvert_exporter": "python",
   "pygments_lexer": "ipython2",
   "version": "2.7.6"
  }
 },
 "nbformat": 4,
 "nbformat_minor": 0
}
