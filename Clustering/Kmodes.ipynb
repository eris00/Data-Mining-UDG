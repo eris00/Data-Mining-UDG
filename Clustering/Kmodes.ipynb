{
 "cells": [
  {
   "cell_type": "code",
   "execution_count": 3,
   "outputs": [
    {
     "name": "stdout",
     "output_type": "stream",
     "text": [
      "Requirement already satisfied: kmodes in c:\\users\\eriss\\documents\\development\\data mining udg\\venv\\lib\\site-packages (0.12.2)\n",
      "Requirement already satisfied: numpy>=1.10.4 in c:\\users\\eriss\\documents\\development\\data mining udg\\venv\\lib\\site-packages (from kmodes) (1.24.3)\n",
      "Requirement already satisfied: scikit-learn>=0.22.0 in c:\\users\\eriss\\documents\\development\\data mining udg\\venv\\lib\\site-packages (from kmodes) (1.2.2)\n",
      "Requirement already satisfied: scipy>=0.13.3 in c:\\users\\eriss\\documents\\development\\data mining udg\\venv\\lib\\site-packages (from kmodes) (1.10.1)\n",
      "Requirement already satisfied: joblib>=0.11 in c:\\users\\eriss\\documents\\development\\data mining udg\\venv\\lib\\site-packages (from kmodes) (1.2.0)\n",
      "Requirement already satisfied: threadpoolctl>=2.0.0 in c:\\users\\eriss\\documents\\development\\data mining udg\\venv\\lib\\site-packages (from scikit-learn>=0.22.0->kmodes) (3.1.0)\n",
      "Note: you may need to restart the kernel to use updated packages.\n"
     ]
    },
    {
     "name": "stderr",
     "output_type": "stream",
     "text": [
      "\n",
      "[notice] A new release of pip available: 22.3.1 -> 23.1.2\n",
      "[notice] To update, run: python.exe -m pip install --upgrade pip\n"
     ]
    }
   ],
   "source": [
    "pip install kmodes"
   ],
   "metadata": {
    "collapsed": false,
    "ExecuteTime": {
     "end_time": "2023-06-06T02:44:29.914232900Z",
     "start_time": "2023-06-06T02:44:28.006474700Z"
    }
   }
  },
  {
   "cell_type": "code",
   "execution_count": 4,
   "outputs": [],
   "source": [
    "from kmodes.kmodes import KModes\n",
    "import pandas as pd\n",
    "import matplotlib.pyplot as plt"
   ],
   "metadata": {
    "collapsed": false,
    "ExecuteTime": {
     "end_time": "2023-06-06T02:44:31.921841600Z",
     "start_time": "2023-06-06T02:44:29.916230700Z"
    }
   }
  },
  {
   "cell_type": "code",
   "execution_count": 5,
   "outputs": [],
   "source": [
    "# Definisanje dataset-a\n",
    "data = {\n",
    "    'ID': [1, 2, 3, 4, 5, 6],\n",
    "    'Boja kose': ['Crna', 'Plava', 'Crna', 'Smeđa', 'Crna', 'Smeđa'],\n",
    "    'Boja očiju': ['Smeđa', 'Plava', 'Zelena', 'Smeđa', 'Plava', 'Zelena'],\n",
    "    'Pol': ['Ženski', 'Muški', 'Muški', 'Ženski', 'Muški', 'Muški']\n",
    "}"
   ],
   "metadata": {
    "collapsed": false,
    "ExecuteTime": {
     "end_time": "2023-06-06T02:44:55.347495400Z",
     "start_time": "2023-06-06T02:44:55.341462200Z"
    }
   }
  },
  {
   "cell_type": "code",
   "execution_count": 8,
   "outputs": [],
   "source": [
    "# Konvertovanje dataset-a u pandas DataFrame\n",
    "df = pd.DataFrame(data)"
   ],
   "metadata": {
    "collapsed": false,
    "ExecuteTime": {
     "end_time": "2023-06-06T02:45:20.801361800Z",
     "start_time": "2023-06-06T02:45:20.792702Z"
    }
   }
  },
  {
   "cell_type": "code",
   "execution_count": 9,
   "outputs": [],
   "source": [
    "# Odabir atributa koji će biti korišćeni za klasterovanje\n",
    "X = df[['Boja kose', 'Boja očiju', 'Pol']]"
   ],
   "metadata": {
    "collapsed": false,
    "ExecuteTime": {
     "end_time": "2023-06-06T02:45:21.245468100Z",
     "start_time": "2023-06-06T02:45:21.237439900Z"
    }
   }
  },
  {
   "cell_type": "code",
   "execution_count": 10,
   "outputs": [],
   "source": [
    "# K-modes algoritam\n",
    "k = 2  # Broj klastera koji želite da pronađete\n",
    "km = KModes(n_clusters=k, init='Huang', n_init=5, verbose=1)"
   ],
   "metadata": {
    "collapsed": false,
    "ExecuteTime": {
     "end_time": "2023-06-06T02:45:28.224067600Z",
     "start_time": "2023-06-06T02:45:28.218048700Z"
    }
   }
  },
  {
   "cell_type": "code",
   "execution_count": 11,
   "outputs": [
    {
     "name": "stdout",
     "output_type": "stream",
     "text": [
      "Init: initializing centroids\n",
      "Init: initializing clusters\n",
      "Starting iterations...\n",
      "Run 1, iteration: 1/100, moves: 0, cost: 7.0\n",
      "Init: initializing centroids\n",
      "Init: initializing clusters\n",
      "Starting iterations...\n",
      "Run 2, iteration: 1/100, moves: 0, cost: 5.0\n",
      "Init: initializing centroids\n",
      "Init: initializing clusters\n",
      "Starting iterations...\n",
      "Run 3, iteration: 1/100, moves: 1, cost: 7.0\n",
      "Init: initializing centroids\n",
      "Init: initializing clusters\n",
      "Starting iterations...\n",
      "Run 4, iteration: 1/100, moves: 0, cost: 5.0\n",
      "Init: initializing centroids\n",
      "Init: initializing clusters\n",
      "Starting iterations...\n",
      "Run 5, iteration: 1/100, moves: 0, cost: 5.0\n",
      "Best run was number 2\n"
     ]
    }
   ],
   "source": [
    "# Izvršavanje K-modes algoritma\n",
    "clusters = km.fit_predict(X)"
   ],
   "metadata": {
    "collapsed": false,
    "ExecuteTime": {
     "end_time": "2023-06-06T02:45:36.469006200Z",
     "start_time": "2023-06-06T02:45:36.451892Z"
    }
   }
  },
  {
   "cell_type": "code",
   "execution_count": 12,
   "outputs": [],
   "source": [
    "# Dodavanje kolone sa rezultujućim klasterima u originalni dataset\n",
    "df['Cluster'] = clusters"
   ],
   "metadata": {
    "collapsed": false,
    "ExecuteTime": {
     "end_time": "2023-06-06T02:45:51.428802600Z",
     "start_time": "2023-06-06T02:45:51.423199200Z"
    }
   }
  },
  {
   "cell_type": "code",
   "execution_count": 13,
   "outputs": [
    {
     "name": "stdout",
     "output_type": "stream",
     "text": [
      "   ID Boja kose Boja očiju     Pol  Cluster\n",
      "0   1      Crna      Smeđa  Ženski        1\n",
      "1   2     Plava      Plava   Muški        0\n",
      "2   3      Crna     Zelena   Muški        0\n",
      "3   4     Smeđa      Smeđa  Ženski        1\n",
      "4   5      Crna      Plava   Muški        0\n",
      "5   6     Smeđa     Zelena   Muški        0\n"
     ]
    }
   ],
   "source": [
    "# Ispis rezultata\n",
    "print(df)"
   ],
   "metadata": {
    "collapsed": false,
    "ExecuteTime": {
     "end_time": "2023-06-06T02:46:01.709239400Z",
     "start_time": "2023-06-06T02:46:01.703045600Z"
    }
   }
  },
  {
   "cell_type": "code",
   "execution_count": 14,
   "outputs": [
    {
     "name": "stdout",
     "output_type": "stream",
     "text": [
      "Init: initializing centroids\n",
      "Init: initializing clusters\n",
      "Starting iterations...\n",
      "Run 1, iteration: 1/100, moves: 0, cost: 6.0\n",
      "Init: initializing centroids\n",
      "Init: initializing clusters\n",
      "Starting iterations...\n",
      "Run 2, iteration: 1/100, moves: 0, cost: 5.0\n",
      "Init: initializing centroids\n",
      "Init: initializing clusters\n",
      "Starting iterations...\n",
      "Run 3, iteration: 1/100, moves: 0, cost: 7.0\n",
      "Init: initializing centroids\n",
      "Init: initializing clusters\n",
      "Starting iterations...\n",
      "Run 4, iteration: 1/100, moves: 0, cost: 7.0\n",
      "Init: initializing centroids\n",
      "Init: initializing clusters\n",
      "Starting iterations...\n",
      "Run 5, iteration: 1/100, moves: 0, cost: 7.0\n",
      "Best run was number 2\n"
     ]
    }
   ],
   "source": [
    "# Izvršavanje K-modes algoritma\n",
    "clusters = km.fit_predict(X)"
   ],
   "metadata": {
    "collapsed": false,
    "ExecuteTime": {
     "end_time": "2023-06-06T02:46:09.284341100Z",
     "start_time": "2023-06-06T02:46:09.278025300Z"
    }
   }
  },
  {
   "cell_type": "code",
   "execution_count": 15,
   "outputs": [],
   "source": [
    "# Dodavanje kolone sa rezultujućim klasterima u originalni dataset\n",
    "df['Cluster'] = clusters"
   ],
   "metadata": {
    "collapsed": false,
    "ExecuteTime": {
     "end_time": "2023-06-06T02:46:16.753253400Z",
     "start_time": "2023-06-06T02:46:16.747223Z"
    }
   }
  },
  {
   "cell_type": "code",
   "execution_count": 16,
   "outputs": [
    {
     "data": {
      "text/plain": "<Figure size 640x480 with 1 Axes>",
      "image/png": "[encoded data removed]"
     },
     "metadata": {},
     "output_type": "display_data"
    }
   ],
   "source": [
    "# Vizualizacija rezultata\n",
    "plt.scatter(df['Boja kose'], df['Boja očiju'], c=df['Cluster'], cmap='viridis')\n",
    "plt.xlabel('Boja kose')\n",
    "plt.ylabel('Boja očiju')\n",
    "plt.title('K-modes klasterovanje rezultati')\n",
    "plt.show()"
   ],
   "metadata": {
    "collapsed": false,
    "ExecuteTime": {
     "end_time": "2023-06-06T02:46:22.924746Z",
     "start_time": "2023-06-06T02:46:22.817174200Z"
    }
   }
  }
 ],
 "metadata": {
  "kernelspec": {
   "display_name": "Python 3",
   "language": "python",
   "name": "python3"
  },
  "language_info": {
   "codemirror_mode": {
    "name": "ipython",
    "version": 2
   },
   "file_extension": ".py",
   "mimetype": "text/x-python",
   "name": "python",
   "nbconvert_exporter": "python",
   "pygments_lexer": "ipython2",
   "version": "2.7.6"
  }
 },
 "nbformat": 4,
 "nbformat_minor": 0
}
