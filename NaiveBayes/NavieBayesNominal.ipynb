{
 "cells": [
  {
   "cell_type": "code",
   "execution_count": 28,
   "metadata": {
    "collapsed": true,
    "ExecuteTime": {
     "end_time": "2023-06-06T01:28:48.530001900Z",
     "start_time": "2023-06-06T01:28:43.273644300Z"
    }
   },
   "outputs": [
    {
     "name": "stdout",
     "output_type": "stream",
     "text": [
      "Requirement already satisfied: scikit-learn-extra in c:\\users\\eriss\\documents\\development\\data mining udg\\venv\\lib\\site-packages (0.3.0)\n",
      "Requirement already satisfied: numpy>=1.13.3 in c:\\users\\eriss\\documents\\development\\data mining udg\\venv\\lib\\site-packages (from scikit-learn-extra) (1.24.3)\n",
      "Requirement already satisfied: scipy>=0.19.1 in c:\\users\\eriss\\documents\\development\\data mining udg\\venv\\lib\\site-packages (from scikit-learn-extra) (1.10.1)\n",
      "Requirement already satisfied: scikit-learn>=0.23.0 in c:\\users\\eriss\\documents\\development\\data mining udg\\venv\\lib\\site-packages (from scikit-learn-extra) (1.2.2)\n",
      "Requirement already satisfied: joblib>=1.1.1 in c:\\users\\eriss\\documents\\development\\data mining udg\\venv\\lib\\site-packages (from scikit-learn>=0.23.0->scikit-learn-extra) (1.2.0)\n",
      "Requirement already satisfied: threadpoolctl>=2.0.0 in c:\\users\\eriss\\documents\\development\\data mining udg\\venv\\lib\\site-packages (from scikit-learn>=0.23.0->scikit-learn-extra) (3.1.0)\n"
     ]
    },
    {
     "name": "stderr",
     "output_type": "stream",
     "text": [
      "\n",
      "[notice] A new release of pip available: 22.3.1 -> 23.1.2\n",
      "[notice] To update, run: python.exe -m pip install --upgrade pip\n"
     ]
    },
    {
     "name": "stdout",
     "output_type": "stream",
     "text": [
      "Requirement already satisfied: pandas in c:\\users\\eriss\\documents\\development\\data mining udg\\venv\\lib\\site-packages (2.0.2)\n",
      "Requirement already satisfied: python-dateutil>=2.8.2 in c:\\users\\eriss\\documents\\development\\data mining udg\\venv\\lib\\site-packages (from pandas) (2.8.2)\n",
      "Requirement already satisfied: pytz>=2020.1 in c:\\users\\eriss\\documents\\development\\data mining udg\\venv\\lib\\site-packages (from pandas) (2023.3)\n",
      "Requirement already satisfied: tzdata>=2022.1 in c:\\users\\eriss\\documents\\development\\data mining udg\\venv\\lib\\site-packages (from pandas) (2023.3)\n",
      "Requirement already satisfied: numpy>=1.21.0 in c:\\users\\eriss\\documents\\development\\data mining udg\\venv\\lib\\site-packages (from pandas) (1.24.3)\n",
      "Requirement already satisfied: six>=1.5 in c:\\users\\eriss\\documents\\development\\data mining udg\\venv\\lib\\site-packages (from python-dateutil>=2.8.2->pandas) (1.16.0)\n"
     ]
    },
    {
     "name": "stderr",
     "output_type": "stream",
     "text": [
      "\n",
      "[notice] A new release of pip available: 22.3.1 -> 23.1.2\n",
      "[notice] To update, run: python.exe -m pip install --upgrade pip\n"
     ]
    },
    {
     "name": "stdout",
     "output_type": "stream",
     "text": [
      "Requirement already satisfied: matplotlib in c:\\users\\eriss\\documents\\development\\data mining udg\\venv\\lib\\site-packages (3.7.1)\n",
      "Requirement already satisfied: contourpy>=1.0.1 in c:\\users\\eriss\\documents\\development\\data mining udg\\venv\\lib\\site-packages (from matplotlib) (1.0.7)\n",
      "Requirement already satisfied: cycler>=0.10 in c:\\users\\eriss\\documents\\development\\data mining udg\\venv\\lib\\site-packages (from matplotlib) (0.11.0)\n",
      "Requirement already satisfied: fonttools>=4.22.0 in c:\\users\\eriss\\documents\\development\\data mining udg\\venv\\lib\\site-packages (from matplotlib) (4.39.4)\n",
      "Requirement already satisfied: kiwisolver>=1.0.1 in c:\\users\\eriss\\documents\\development\\data mining udg\\venv\\lib\\site-packages (from matplotlib) (1.4.4)\n",
      "Requirement already satisfied: numpy>=1.20 in c:\\users\\eriss\\documents\\development\\data mining udg\\venv\\lib\\site-packages (from matplotlib) (1.24.3)\n",
      "Requirement already satisfied: packaging>=20.0 in c:\\users\\eriss\\documents\\development\\data mining udg\\venv\\lib\\site-packages (from matplotlib) (23.1)\n",
      "Requirement already satisfied: pillow>=6.2.0 in c:\\users\\eriss\\documents\\development\\data mining udg\\venv\\lib\\site-packages (from matplotlib) (9.5.0)\n",
      "Requirement already satisfied: pyparsing>=2.3.1 in c:\\users\\eriss\\documents\\development\\data mining udg\\venv\\lib\\site-packages (from matplotlib) (3.0.9)\n",
      "Requirement already satisfied: python-dateutil>=2.7 in c:\\users\\eriss\\documents\\development\\data mining udg\\venv\\lib\\site-packages (from matplotlib) (2.8.2)\n",
      "Requirement already satisfied: six>=1.5 in c:\\users\\eriss\\documents\\development\\data mining udg\\venv\\lib\\site-packages (from python-dateutil>=2.7->matplotlib) (1.16.0)\n"
     ]
    },
    {
     "name": "stderr",
     "output_type": "stream",
     "text": [
      "\n",
      "[notice] A new release of pip available: 22.3.1 -> 23.1.2\n",
      "[notice] To update, run: python.exe -m pip install --upgrade pip\n"
     ]
    }
   ],
   "source": [
    "!pip install scikit-learn-extra\n",
    "!pip install pandas\n",
    "!pip install matplotlib"
   ]
  },
  {
   "cell_type": "code",
   "execution_count": 29,
   "outputs": [],
   "source": [
    "# Importovanje potrebnih biblioteka\n",
    "from sklearn.naive_bayes import BernoulliNB\n",
    "from sklearn.naive_bayes import MultinomialNB\n",
    "from sklearn.naive_bayes import GaussianNB\n",
    "from sklearn.model_selection import train_test_split\n",
    "from sklearn.metrics import accuracy_score\n",
    "import pandas as pd\n",
    "from sklearn.preprocessing import LabelEncoder"
   ],
   "metadata": {
    "collapsed": false,
    "ExecuteTime": {
     "end_time": "2023-06-06T01:28:48.560163600Z",
     "start_time": "2023-06-06T01:28:48.532002600Z"
    }
   }
  },
  {
   "cell_type": "code",
   "execution_count": 30,
   "outputs": [
    {
     "data": {
      "text/plain": "  ID    Boja       Tip Porijeklo Ukraden\n0  0  Crvena  Sportski    Domaće      Da\n1  1  Crvena  Sportski    Domaće      Ne\n2  2  Crvena  Sportski    Domaće      Da\n3  3    Žuta  Sportski    Domaće      Ne\n4  4    Žuta  Sportski   Uvezeno      Da\n5  5    Žuta   Terenac   Uvezeno      Ne\n6  6    Žuta   Terenac   Uvezeno      Da\n7  7    Žuta   Terenac    Domaće      Ne\n8  8  Crvena   Terenac   Uvezeno      Ne\n9  9  Crvena  Sportski   Uvezeno      Da",
      "text/html": "<div>\n<style scoped>\n    .dataframe tbody tr th:only-of-type {\n        vertical-align: middle;\n    }\n\n    .dataframe tbody tr th {\n        vertical-align: top;\n    }\n\n    .dataframe thead th {\n        text-align: right;\n    }\n</style>\n<table border=\"1\" class=\"dataframe\">\n  <thead>\n    <tr style=\"text-align: right;\">\n      <th></th>\n      <th>ID</th>\n      <th>Boja</th>\n      <th>Tip</th>\n      <th>Porijeklo</th>\n      <th>Ukraden</th>\n    </tr>\n  </thead>\n  <tbody>\n    <tr>\n      <th>0</th>\n      <td>0</td>\n      <td>Crvena</td>\n      <td>Sportski</td>\n      <td>Domaće</td>\n      <td>Da</td>\n    </tr>\n    <tr>\n      <th>1</th>\n      <td>1</td>\n      <td>Crvena</td>\n      <td>Sportski</td>\n      <td>Domaće</td>\n      <td>Ne</td>\n    </tr>\n    <tr>\n      <th>2</th>\n      <td>2</td>\n      <td>Crvena</td>\n      <td>Sportski</td>\n      <td>Domaće</td>\n      <td>Da</td>\n    </tr>\n    <tr>\n      <th>3</th>\n      <td>3</td>\n      <td>Žuta</td>\n      <td>Sportski</td>\n      <td>Domaće</td>\n      <td>Ne</td>\n    </tr>\n    <tr>\n      <th>4</th>\n      <td>4</td>\n      <td>Žuta</td>\n      <td>Sportski</td>\n      <td>Uvezeno</td>\n      <td>Da</td>\n    </tr>\n    <tr>\n      <th>5</th>\n      <td>5</td>\n      <td>Žuta</td>\n      <td>Terenac</td>\n      <td>Uvezeno</td>\n      <td>Ne</td>\n    </tr>\n    <tr>\n      <th>6</th>\n      <td>6</td>\n      <td>Žuta</td>\n      <td>Terenac</td>\n      <td>Uvezeno</td>\n      <td>Da</td>\n    </tr>\n    <tr>\n      <th>7</th>\n      <td>7</td>\n      <td>Žuta</td>\n      <td>Terenac</td>\n      <td>Domaće</td>\n      <td>Ne</td>\n    </tr>\n    <tr>\n      <th>8</th>\n      <td>8</td>\n      <td>Crvena</td>\n      <td>Terenac</td>\n      <td>Uvezeno</td>\n      <td>Ne</td>\n    </tr>\n    <tr>\n      <th>9</th>\n      <td>9</td>\n      <td>Crvena</td>\n      <td>Sportski</td>\n      <td>Uvezeno</td>\n      <td>Da</td>\n    </tr>\n  </tbody>\n</table>\n</div>"
     },
     "execution_count": 30,
     "metadata": {},
     "output_type": "execute_result"
    }
   ],
   "source": [
    "# Unos dataset-a\n",
    "d = {\n",
    "     'ID': ['0','1','2','3','4','5','6','7','8','9'],\n",
    "     'Boja': ['Crvena', 'Crvena', 'Crvena', 'Žuta', 'Žuta', 'Žuta', 'Žuta', 'Žuta', 'Crvena', 'Crvena'],\n",
    "     'Tip': ['Sportski','Sportski','Sportski','Sportski','Sportski','Terenac','Terenac','Terenac','Terenac','Sportski'],\n",
    "     'Porijeklo': ['Domaće','Domaće','Domaće','Domaće','Uvezeno','Uvezeno','Uvezeno','Domaće','Uvezeno','Uvezeno'],\n",
    "     'Ukraden': ['Da','Ne','Da','Ne','Da','Ne','Da','Ne','Ne','Da'],\n",
    "}\n",
    "\n",
    "df = pd.DataFrame(data=d)\n",
    "df"
   ],
   "metadata": {
    "collapsed": false,
    "ExecuteTime": {
     "end_time": "2023-06-06T01:28:48.628150400Z",
     "start_time": "2023-06-06T01:28:48.560163600Z"
    }
   }
  },
  {
   "cell_type": "code",
   "execution_count": 31,
   "outputs": [],
   "source": [
    "df.set_index('ID', inplace=True)"
   ],
   "metadata": {
    "collapsed": false,
    "ExecuteTime": {
     "end_time": "2023-06-06T01:28:48.629168800Z",
     "start_time": "2023-06-06T01:28:48.562160Z"
    }
   }
  },
  {
   "cell_type": "code",
   "execution_count": 32,
   "outputs": [],
   "source": [
    "#Pripremamo podatke za treniranje\n",
    "X = df.drop(labels='Ukraden', axis= 1) #U varijablu X stavljamo dataset bez Transport kolone\n",
    "y = df['Ukraden'] # Transport kolonu dodjeljujemo varijabli Y"
   ],
   "metadata": {
    "collapsed": false,
    "ExecuteTime": {
     "end_time": "2023-06-06T01:28:48.629168800Z",
     "start_time": "2023-06-06T01:28:48.563771300Z"
    }
   }
  },
  {
   "cell_type": "code",
   "execution_count": 33,
   "outputs": [],
   "source": [
    "# Pretvaramo 2 kategoricke kolone u numericke vrijednosti\n",
    "X = pd.get_dummies(X)"
   ],
   "metadata": {
    "collapsed": false,
    "ExecuteTime": {
     "end_time": "2023-06-06T01:28:48.629168800Z",
     "start_time": "2023-06-06T01:28:48.568385100Z"
    }
   }
  },
  {
   "cell_type": "code",
   "execution_count": 34,
   "outputs": [],
   "source": [
    "# Dijelimo podatke na trening i test skupove\n",
    "X_train, X_test, y_train, y_test = train_test_split(X, y, test_size = 0.25, random_state=17)"
   ],
   "metadata": {
    "collapsed": false,
    "ExecuteTime": {
     "end_time": "2023-06-06T01:28:48.629168800Z",
     "start_time": "2023-06-06T01:28:48.582175300Z"
    }
   }
  },
  {
   "cell_type": "code",
   "execution_count": 35,
   "outputs": [
    {
     "data": {
      "text/plain": "    Boja_Crvena  Boja_Žuta  Tip_Sportski  Tip_Terenac  Porijeklo_Domaće  \\\nID                                                                        \n0          True      False          True        False              True   \n1          True      False          True        False              True   \n2          True      False          True        False              True   \n3         False       True          True        False              True   \n4         False       True          True        False             False   \n5         False       True         False         True             False   \n6         False       True         False         True             False   \n7         False       True         False         True              True   \n8          True      False         False         True             False   \n9          True      False          True        False             False   \n\n    Porijeklo_Uvezeno  \nID                     \n0               False  \n1               False  \n2               False  \n3               False  \n4                True  \n5                True  \n6                True  \n7               False  \n8                True  \n9                True  ",
      "text/html": "<div>\n<style scoped>\n    .dataframe tbody tr th:only-of-type {\n        vertical-align: middle;\n    }\n\n    .dataframe tbody tr th {\n        vertical-align: top;\n    }\n\n    .dataframe thead th {\n        text-align: right;\n    }\n</style>\n<table border=\"1\" class=\"dataframe\">\n  <thead>\n    <tr style=\"text-align: right;\">\n      <th></th>\n      <th>Boja_Crvena</th>\n      <th>Boja_Žuta</th>\n      <th>Tip_Sportski</th>\n      <th>Tip_Terenac</th>\n      <th>Porijeklo_Domaće</th>\n      <th>Porijeklo_Uvezeno</th>\n    </tr>\n    <tr>\n      <th>ID</th>\n      <th></th>\n      <th></th>\n      <th></th>\n      <th></th>\n      <th></th>\n      <th></th>\n    </tr>\n  </thead>\n  <tbody>\n    <tr>\n      <th>0</th>\n      <td>True</td>\n      <td>False</td>\n      <td>True</td>\n      <td>False</td>\n      <td>True</td>\n      <td>False</td>\n    </tr>\n    <tr>\n      <th>1</th>\n      <td>True</td>\n      <td>False</td>\n      <td>True</td>\n      <td>False</td>\n      <td>True</td>\n      <td>False</td>\n    </tr>\n    <tr>\n      <th>2</th>\n      <td>True</td>\n      <td>False</td>\n      <td>True</td>\n      <td>False</td>\n      <td>True</td>\n      <td>False</td>\n    </tr>\n    <tr>\n      <th>3</th>\n      <td>False</td>\n      <td>True</td>\n      <td>True</td>\n      <td>False</td>\n      <td>True</td>\n      <td>False</td>\n    </tr>\n    <tr>\n      <th>4</th>\n      <td>False</td>\n      <td>True</td>\n      <td>True</td>\n      <td>False</td>\n      <td>False</td>\n      <td>True</td>\n    </tr>\n    <tr>\n      <th>5</th>\n      <td>False</td>\n      <td>True</td>\n      <td>False</td>\n      <td>True</td>\n      <td>False</td>\n      <td>True</td>\n    </tr>\n    <tr>\n      <th>6</th>\n      <td>False</td>\n      <td>True</td>\n      <td>False</td>\n      <td>True</td>\n      <td>False</td>\n      <td>True</td>\n    </tr>\n    <tr>\n      <th>7</th>\n      <td>False</td>\n      <td>True</td>\n      <td>False</td>\n      <td>True</td>\n      <td>True</td>\n      <td>False</td>\n    </tr>\n    <tr>\n      <th>8</th>\n      <td>True</td>\n      <td>False</td>\n      <td>False</td>\n      <td>True</td>\n      <td>False</td>\n      <td>True</td>\n    </tr>\n    <tr>\n      <th>9</th>\n      <td>True</td>\n      <td>False</td>\n      <td>True</td>\n      <td>False</td>\n      <td>False</td>\n      <td>True</td>\n    </tr>\n  </tbody>\n</table>\n</div>"
     },
     "execution_count": 35,
     "metadata": {},
     "output_type": "execute_result"
    }
   ],
   "source": [
    "X"
   ],
   "metadata": {
    "collapsed": false,
    "ExecuteTime": {
     "end_time": "2023-06-06T01:28:48.630163900Z",
     "start_time": "2023-06-06T01:28:48.587318100Z"
    }
   }
  },
  {
   "cell_type": "code",
   "execution_count": 44,
   "outputs": [
    {
     "name": "stdout",
     "output_type": "stream",
     "text": [
      "BernoulliNB()\n",
      "0.3333333333333333\n",
      "Da li ce biti ukradeno: Ne\n"
     ]
    }
   ],
   "source": [
    "# Treniranje modela\n",
    "BernNB = BernoulliNB() #Istanciranje klase\n",
    "BernNB.fit(X_train.values, y_train) #treniranje modela nad X_train podacima\n",
    "print(BernNB)\n",
    "\n",
    "y_expect = y_test\n",
    "y_pred = BernNB.predict(X_test.values)\n",
    "print(accuracy_score(y_expect, y_pred)) #tačnost predikcije\n",
    "print(f\"Da li ce biti ukradeno: {BernNB.predict([[0, 1, 1, 0, 1, 0]])[0]}\") #predikcija za proslijeđeni podatak"
   ],
   "metadata": {
    "collapsed": false,
    "ExecuteTime": {
     "end_time": "2023-06-06T01:41:36.389320500Z",
     "start_time": "2023-06-06T01:41:36.372137800Z"
    }
   }
  },
  {
   "cell_type": "code",
   "execution_count": 41,
   "outputs": [
    {
     "name": "stdout",
     "output_type": "stream",
     "text": [
      "MultinomialNB()\n",
      "1.0\n",
      "Da li ce biti ukradeno: Ne\n"
     ]
    }
   ],
   "source": [
    "MultiNB = MultinomialNB()\n",
    "MultiNB.fit(X.values, y)\n",
    "print(MultiNB)\n",
    "y_pred = MultiNB.predict(X_test.values)\n",
    "print(accuracy_score(y_expect, y_pred)) #tačnost predikcije\n",
    "print(f\"Da li ce biti ukradeno: {MultiNB.predict([[0, 1, 1, 0, 1, 0]])[0]}\") #predikcija za proslijeđeni podatak"
   ],
   "metadata": {
    "collapsed": false,
    "ExecuteTime": {
     "end_time": "2023-06-06T01:36:46.388279100Z",
     "start_time": "2023-06-06T01:36:46.375154800Z"
    }
   }
  },
  {
   "cell_type": "code",
   "execution_count": 42,
   "outputs": [
    {
     "name": "stdout",
     "output_type": "stream",
     "text": [
      "GaussianNB()\n",
      "0.3333333333333333\n",
      "Da li ce biti ukradeno: Ne\n"
     ]
    },
    {
     "name": "stderr",
     "output_type": "stream",
     "text": [
      "C:\\Users\\eriss\\Documents\\Development\\Data Mining UDG\\venv\\Lib\\site-packages\\sklearn\\base.py:439: UserWarning: X does not have valid feature names, but GaussianNB was fitted with feature names\n",
      "  warnings.warn(\n"
     ]
    }
   ],
   "source": [
    "Gaus = GaussianNB()\n",
    "Gaus.fit(X_train, y_train)\n",
    "print(Gaus)\n",
    "y_pred = Gaus.predict(X_test)\n",
    "print(accuracy_score(y_expect, y_pred)) #tačnost predikcije\n",
    "print(f\"Da li ce biti ukradeno: {Gaus.predict([[0, 1, 1, 0, 1, 0]])[0]}\") #predikcija za proslijeđeni podatak"
   ],
   "metadata": {
    "collapsed": false,
    "ExecuteTime": {
     "end_time": "2023-06-06T01:37:19.134062Z",
     "start_time": "2023-06-06T01:37:19.122258700Z"
    }
   }
  }
 ],
 "metadata": {
  "kernelspec": {
   "display_name": "Python 3",
   "language": "python",
   "name": "python3"
  },
  "language_info": {
   "codemirror_mode": {
    "name": "ipython",
    "version": 2
   },
   "file_extension": ".py",
   "mimetype": "text/x-python",
   "name": "python",
   "nbconvert_exporter": "python",
   "pygments_lexer": "ipython2",
   "version": "2.7.6"
  }
 },
 "nbformat": 4,
 "nbformat_minor": 0
}
