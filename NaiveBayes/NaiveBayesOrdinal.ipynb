{
 "cells": [
  {
   "cell_type": "code",
   "execution_count": 19,
   "outputs": [
    {
     "name": "stdout",
     "output_type": "stream",
     "text": [
      "Requirement already satisfied: scikit-learn-extra in c:\\users\\eriss\\documents\\development\\data mining udg\\venv\\lib\\site-packages (0.3.0)\n",
      "Requirement already satisfied: numpy>=1.13.3 in c:\\users\\eriss\\documents\\development\\data mining udg\\venv\\lib\\site-packages (from scikit-learn-extra) (1.24.3)\n",
      "Requirement already satisfied: scipy>=0.19.1 in c:\\users\\eriss\\documents\\development\\data mining udg\\venv\\lib\\site-packages (from scikit-learn-extra) (1.10.1)\n",
      "Requirement already satisfied: scikit-learn>=0.23.0 in c:\\users\\eriss\\documents\\development\\data mining udg\\venv\\lib\\site-packages (from scikit-learn-extra) (1.2.2)\n",
      "Requirement already satisfied: joblib>=1.1.1 in c:\\users\\eriss\\documents\\development\\data mining udg\\venv\\lib\\site-packages (from scikit-learn>=0.23.0->scikit-learn-extra) (1.2.0)\n",
      "Requirement already satisfied: threadpoolctl>=2.0.0 in c:\\users\\eriss\\documents\\development\\data mining udg\\venv\\lib\\site-packages (from scikit-learn>=0.23.0->scikit-learn-extra) (3.1.0)\n"
     ]
    },
    {
     "name": "stderr",
     "output_type": "stream",
     "text": [
      "\n",
      "[notice] A new release of pip available: 22.3.1 -> 23.1.2\n",
      "[notice] To update, run: python.exe -m pip install --upgrade pip\n"
     ]
    },
    {
     "name": "stdout",
     "output_type": "stream",
     "text": [
      "Requirement already satisfied: pandas in c:\\users\\eriss\\documents\\development\\data mining udg\\venv\\lib\\site-packages (2.0.2)\n",
      "Requirement already satisfied: python-dateutil>=2.8.2 in c:\\users\\eriss\\documents\\development\\data mining udg\\venv\\lib\\site-packages (from pandas) (2.8.2)\n",
      "Requirement already satisfied: pytz>=2020.1 in c:\\users\\eriss\\documents\\development\\data mining udg\\venv\\lib\\site-packages (from pandas) (2023.3)\n",
      "Requirement already satisfied: tzdata>=2022.1 in c:\\users\\eriss\\documents\\development\\data mining udg\\venv\\lib\\site-packages (from pandas) (2023.3)\n",
      "Requirement already satisfied: numpy>=1.21.0 in c:\\users\\eriss\\documents\\development\\data mining udg\\venv\\lib\\site-packages (from pandas) (1.24.3)\n",
      "Requirement already satisfied: six>=1.5 in c:\\users\\eriss\\documents\\development\\data mining udg\\venv\\lib\\site-packages (from python-dateutil>=2.8.2->pandas) (1.16.0)\n"
     ]
    },
    {
     "name": "stderr",
     "output_type": "stream",
     "text": [
      "\n",
      "[notice] A new release of pip available: 22.3.1 -> 23.1.2\n",
      "[notice] To update, run: python.exe -m pip install --upgrade pip\n"
     ]
    },
    {
     "name": "stdout",
     "output_type": "stream",
     "text": [
      "Requirement already satisfied: matplotlib in c:\\users\\eriss\\documents\\development\\data mining udg\\venv\\lib\\site-packages (3.7.1)\n",
      "Requirement already satisfied: contourpy>=1.0.1 in c:\\users\\eriss\\documents\\development\\data mining udg\\venv\\lib\\site-packages (from matplotlib) (1.0.7)\n",
      "Requirement already satisfied: cycler>=0.10 in c:\\users\\eriss\\documents\\development\\data mining udg\\venv\\lib\\site-packages (from matplotlib) (0.11.0)\n",
      "Requirement already satisfied: fonttools>=4.22.0 in c:\\users\\eriss\\documents\\development\\data mining udg\\venv\\lib\\site-packages (from matplotlib) (4.39.4)\n",
      "Requirement already satisfied: kiwisolver>=1.0.1 in c:\\users\\eriss\\documents\\development\\data mining udg\\venv\\lib\\site-packages (from matplotlib) (1.4.4)\n",
      "Requirement already satisfied: numpy>=1.20 in c:\\users\\eriss\\documents\\development\\data mining udg\\venv\\lib\\site-packages (from matplotlib) (1.24.3)\n",
      "Requirement already satisfied: packaging>=20.0 in c:\\users\\eriss\\documents\\development\\data mining udg\\venv\\lib\\site-packages (from matplotlib) (23.1)\n",
      "Requirement already satisfied: pillow>=6.2.0 in c:\\users\\eriss\\documents\\development\\data mining udg\\venv\\lib\\site-packages (from matplotlib) (9.5.0)\n",
      "Requirement already satisfied: pyparsing>=2.3.1 in c:\\users\\eriss\\documents\\development\\data mining udg\\venv\\lib\\site-packages (from matplotlib) (3.0.9)\n",
      "Requirement already satisfied: python-dateutil>=2.7 in c:\\users\\eriss\\documents\\development\\data mining udg\\venv\\lib\\site-packages (from matplotlib) (2.8.2)\n",
      "Requirement already satisfied: six>=1.5 in c:\\users\\eriss\\documents\\development\\data mining udg\\venv\\lib\\site-packages (from python-dateutil>=2.7->matplotlib) (1.16.0)\n"
     ]
    },
    {
     "name": "stderr",
     "output_type": "stream",
     "text": [
      "\n",
      "[notice] A new release of pip available: 22.3.1 -> 23.1.2\n",
      "[notice] To update, run: python.exe -m pip install --upgrade pip\n"
     ]
    }
   ],
   "source": [
    "!pip install scikit-learn-extra\n",
    "!pip install pandas\n",
    "!pip install matplotlib"
   ],
   "metadata": {
    "collapsed": false,
    "ExecuteTime": {
     "end_time": "2023-06-05T23:56:42.664346900Z",
     "start_time": "2023-06-05T23:56:37.508626800Z"
    }
   }
  },
  {
   "cell_type": "code",
   "execution_count": 20,
   "outputs": [],
   "source": [
    "# Importovanje potrebnih biblioteka\n",
    "from sklearn.naive_bayes import BernoulliNB\n",
    "from sklearn.naive_bayes import MultinomialNB\n",
    "from sklearn.naive_bayes import GaussianNB\n",
    "from sklearn.model_selection import train_test_split\n",
    "from sklearn.metrics import accuracy_score\n",
    "import pandas as pd\n",
    "from sklearn.preprocessing import LabelEncoder"
   ],
   "metadata": {
    "collapsed": false,
    "ExecuteTime": {
     "end_time": "2023-06-05T23:56:42.677142400Z",
     "start_time": "2023-06-05T23:56:42.673625600Z"
    }
   }
  },
  {
   "cell_type": "code",
   "execution_count": 21,
   "outputs": [
    {
     "data": {
      "text/plain": "   Broj vozila u vlasnistvu Cijena prevoza  Prihodi  Transport\n0                         0        Jeftino      800    Autobus\n1                         1        Jeftino     1200    Autobus\n2                         1        Jeftino     1100        Voz\n3                         0        Jeftino      700    Autobus\n4                         1        Jeftino     1130    Autobus\n5                         0     Standardno     1140        Voz\n6                         1     Standardno     1150        Voz\n7                         1          Skupo     3123  Automobil\n8                         2          Skupo     1134  Automobil",
      "text/html": "<div>\n<style scoped>\n    .dataframe tbody tr th:only-of-type {\n        vertical-align: middle;\n    }\n\n    .dataframe tbody tr th {\n        vertical-align: top;\n    }\n\n    .dataframe thead th {\n        text-align: right;\n    }\n</style>\n<table border=\"1\" class=\"dataframe\">\n  <thead>\n    <tr style=\"text-align: right;\">\n      <th></th>\n      <th>Broj vozila u vlasnistvu</th>\n      <th>Cijena prevoza</th>\n      <th>Prihodi</th>\n      <th>Transport</th>\n    </tr>\n  </thead>\n  <tbody>\n    <tr>\n      <th>0</th>\n      <td>0</td>\n      <td>Jeftino</td>\n      <td>800</td>\n      <td>Autobus</td>\n    </tr>\n    <tr>\n      <th>1</th>\n      <td>1</td>\n      <td>Jeftino</td>\n      <td>1200</td>\n      <td>Autobus</td>\n    </tr>\n    <tr>\n      <th>2</th>\n      <td>1</td>\n      <td>Jeftino</td>\n      <td>1100</td>\n      <td>Voz</td>\n    </tr>\n    <tr>\n      <th>3</th>\n      <td>0</td>\n      <td>Jeftino</td>\n      <td>700</td>\n      <td>Autobus</td>\n    </tr>\n    <tr>\n      <th>4</th>\n      <td>1</td>\n      <td>Jeftino</td>\n      <td>1130</td>\n      <td>Autobus</td>\n    </tr>\n    <tr>\n      <th>5</th>\n      <td>0</td>\n      <td>Standardno</td>\n      <td>1140</td>\n      <td>Voz</td>\n    </tr>\n    <tr>\n      <th>6</th>\n      <td>1</td>\n      <td>Standardno</td>\n      <td>1150</td>\n      <td>Voz</td>\n    </tr>\n    <tr>\n      <th>7</th>\n      <td>1</td>\n      <td>Skupo</td>\n      <td>3123</td>\n      <td>Automobil</td>\n    </tr>\n    <tr>\n      <th>8</th>\n      <td>2</td>\n      <td>Skupo</td>\n      <td>1134</td>\n      <td>Automobil</td>\n    </tr>\n  </tbody>\n</table>\n</div>"
     },
     "execution_count": 21,
     "metadata": {},
     "output_type": "execute_result"
    }
   ],
   "source": [
    "# Unos dataset-a\n",
    "d = {\n",
    "     'Broj vozila u vlasnistvu': [0, 1, 1, 0, 1, 0, 1,1,2],\n",
    "     'Cijena prevoza': ['Jeftino', 'Jeftino','Jeftino','Jeftino','Jeftino','Standardno','Standardno','Skupo','Skupo'],\n",
    "     'Prihodi': [800, 1200, 1100, 700, 1130, 1140, 1150, 3123, 1134],\n",
    "     'Transport': ['Autobus','Autobus','Voz','Autobus','Autobus','Voz','Voz','Automobil','Automobil'],\n",
    "}\n",
    "\n",
    "df = pd.DataFrame(data=d)\n",
    "df"
   ],
   "metadata": {
    "collapsed": false,
    "ExecuteTime": {
     "end_time": "2023-06-05T23:56:42.725721300Z",
     "start_time": "2023-06-05T23:56:42.682199200Z"
    }
   }
  },
  {
   "cell_type": "code",
   "execution_count": 22,
   "outputs": [
    {
     "data": {
      "text/plain": "   Broj vozila u vlasnistvu  Cijena prevoza  Prihodi  Transport\n0                         0               0      800          0\n1                         1               0     1200          0\n2                         1               0     1100          2\n3                         0               0      700          0\n4                         1               0     1130          0\n5                         0               2     1140          2\n6                         1               2     1150          2\n7                         1               1     3123          1\n8                         2               1     1134          1",
      "text/html": "<div>\n<style scoped>\n    .dataframe tbody tr th:only-of-type {\n        vertical-align: middle;\n    }\n\n    .dataframe tbody tr th {\n        vertical-align: top;\n    }\n\n    .dataframe thead th {\n        text-align: right;\n    }\n</style>\n<table border=\"1\" class=\"dataframe\">\n  <thead>\n    <tr style=\"text-align: right;\">\n      <th></th>\n      <th>Broj vozila u vlasnistvu</th>\n      <th>Cijena prevoza</th>\n      <th>Prihodi</th>\n      <th>Transport</th>\n    </tr>\n  </thead>\n  <tbody>\n    <tr>\n      <th>0</th>\n      <td>0</td>\n      <td>0</td>\n      <td>800</td>\n      <td>0</td>\n    </tr>\n    <tr>\n      <th>1</th>\n      <td>1</td>\n      <td>0</td>\n      <td>1200</td>\n      <td>0</td>\n    </tr>\n    <tr>\n      <th>2</th>\n      <td>1</td>\n      <td>0</td>\n      <td>1100</td>\n      <td>2</td>\n    </tr>\n    <tr>\n      <th>3</th>\n      <td>0</td>\n      <td>0</td>\n      <td>700</td>\n      <td>0</td>\n    </tr>\n    <tr>\n      <th>4</th>\n      <td>1</td>\n      <td>0</td>\n      <td>1130</td>\n      <td>0</td>\n    </tr>\n    <tr>\n      <th>5</th>\n      <td>0</td>\n      <td>2</td>\n      <td>1140</td>\n      <td>2</td>\n    </tr>\n    <tr>\n      <th>6</th>\n      <td>1</td>\n      <td>2</td>\n      <td>1150</td>\n      <td>2</td>\n    </tr>\n    <tr>\n      <th>7</th>\n      <td>1</td>\n      <td>1</td>\n      <td>3123</td>\n      <td>1</td>\n    </tr>\n    <tr>\n      <th>8</th>\n      <td>2</td>\n      <td>1</td>\n      <td>1134</td>\n      <td>1</td>\n    </tr>\n  </tbody>\n</table>\n</div>"
     },
     "execution_count": 22,
     "metadata": {},
     "output_type": "execute_result"
    }
   ],
   "source": [
    "# Pretvaramo 2 kategoricke kolone (Cijena prevoza i transport) u numericke vrijednosti\n",
    "le = LabelEncoder()\n",
    "df['Cijena prevoza'] = le.fit(df['Cijena prevoza']).transform(df['Cijena prevoza'])\n",
    "df['Transport'] = le.fit(df['Transport']).transform(df['Transport'])\n",
    "df"
   ],
   "metadata": {
    "collapsed": false,
    "ExecuteTime": {
     "end_time": "2023-06-05T23:56:42.726714500Z",
     "start_time": "2023-06-05T23:56:42.705345200Z"
    }
   }
  },
  {
   "cell_type": "code",
   "execution_count": 23,
   "outputs": [],
   "source": [
    "#Pripremamo podatke za treniranje\n",
    "X = df.drop(labels='Transport', axis= 1) #U varijablu X stavljamo dataset bez Transport kolone\n",
    "y = df['Transport'] # Transport kolonu dodjeljujemo varijabli Y"
   ],
   "metadata": {
    "collapsed": false,
    "ExecuteTime": {
     "end_time": "2023-06-05T23:56:42.753746700Z",
     "start_time": "2023-06-05T23:56:42.726714500Z"
    }
   }
  },
  {
   "cell_type": "code",
   "execution_count": 24,
   "outputs": [],
   "source": [
    "# Dijelimo podatke na trening i test skupove\n",
    "X_train, X_test, y_train, y_test = train_test_split(X, y, test_size = 0.25, random_state=17)"
   ],
   "metadata": {
    "collapsed": false,
    "ExecuteTime": {
     "end_time": "2023-06-05T23:56:42.753746700Z",
     "start_time": "2023-06-05T23:56:42.738077500Z"
    }
   }
  },
  {
   "cell_type": "code",
   "execution_count": 25,
   "outputs": [
    {
     "name": "stdout",
     "output_type": "stream",
     "text": [
      "BernoulliNB()\n",
      "0.6666666666666666\n",
      "Osoba ce ici transportom:  ['Autobus']\n"
     ]
    }
   ],
   "source": [
    "# Treniranje modela\n",
    "BernNB = BernoulliNB() #Istanciranje klase\n",
    "BernNB.fit(X_train.values, y_train) #treniranje modela nad X_train podacima\n",
    "print(BernNB)\n",
    "\n",
    "y_expect = y_test\n",
    "y_pred = BernNB.predict(X_test.values)\n",
    "print(accuracy_score(y_expect, y_pred))\n",
    "print(\"Osoba ce ici transportom: \", le.inverse_transform(BernNB.predict([[1, 0, 900]]))) #korišćenje modela za predikciju nad podatkom [1,0,900]"
   ],
   "metadata": {
    "collapsed": false,
    "ExecuteTime": {
     "end_time": "2023-06-05T23:56:42.807876700Z",
     "start_time": "2023-06-05T23:56:42.761541700Z"
    }
   }
  },
  {
   "cell_type": "code",
   "execution_count": 26,
   "outputs": [
    {
     "name": "stdout",
     "output_type": "stream",
     "text": [
      "MultinomialNB()\n",
      "0.6666666666666666\n",
      "Ide sa:  ['Voz']\n"
     ]
    }
   ],
   "source": [
    "MultiNB = MultinomialNB()\n",
    "MultiNB.fit(X.values, y)\n",
    "print(MultiNB)\n",
    "y_pred = MultiNB.predict(X_test.values)\n",
    "print(accuracy_score(y_expect, y_pred)) #tačnost predikcije\n",
    "print(\"Ide sa: \", le.inverse_transform(MultiNB.predict([[0, 1, 900]]))) #predikcija"
   ],
   "metadata": {
    "collapsed": false,
    "ExecuteTime": {
     "end_time": "2023-06-05T23:56:42.893402400Z",
     "start_time": "2023-06-05T23:56:42.790555200Z"
    }
   }
  },
  {
   "cell_type": "code",
   "execution_count": 27,
   "outputs": [
    {
     "name": "stdout",
     "output_type": "stream",
     "text": [
      "GaussianNB()\n",
      "0.6666666666666666\n",
      "Ide sa:  ['Automobil']\n"
     ]
    },
    {
     "name": "stderr",
     "output_type": "stream",
     "text": [
      "C:\\Users\\eriss\\Documents\\Development\\Data Mining UDG\\venv\\Lib\\site-packages\\sklearn\\base.py:439: UserWarning: X does not have valid feature names, but GaussianNB was fitted with feature names\n",
      "  warnings.warn(\n"
     ]
    }
   ],
   "source": [
    "Gaus = GaussianNB()\n",
    "Gaus.fit(X_train, y_train)\n",
    "print(Gaus)\n",
    "y_pred = Gaus.predict(X_test)\n",
    "print(accuracy_score(y_expect, y_pred))\n",
    "print(\"Ide sa: \", le.inverse_transform(Gaus.predict([[0, 1, 900]])))"
   ],
   "metadata": {
    "collapsed": false,
    "ExecuteTime": {
     "end_time": "2023-06-05T23:56:42.894403300Z",
     "start_time": "2023-06-05T23:56:42.807876700Z"
    }
   }
  }
 ],
 "metadata": {
  "kernelspec": {
   "display_name": "Python 3",
   "language": "python",
   "name": "python3"
  },
  "language_info": {
   "codemirror_mode": {
    "name": "ipython",
    "version": 2
   },
   "file_extension": ".py",
   "mimetype": "text/x-python",
   "name": "python",
   "nbconvert_exporter": "python",
   "pygments_lexer": "ipython2",
   "version": "2.7.6"
  }
 },
 "nbformat": 4,
 "nbformat_minor": 0
}
