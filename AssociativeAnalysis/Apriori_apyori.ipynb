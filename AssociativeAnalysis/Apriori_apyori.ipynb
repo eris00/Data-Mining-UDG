{
 "cells": [
  {
   "cell_type": "code",
   "execution_count": 152,
   "metadata": {
    "collapsed": true,
    "ExecuteTime": {
     "end_time": "2023-06-07T22:17:58.567306100Z",
     "start_time": "2023-06-07T22:17:58.563567Z"
    }
   },
   "outputs": [],
   "source": [
    "from apyori import apriori"
   ]
  },
  {
   "cell_type": "code",
   "execution_count": 153,
   "outputs": [],
   "source": [
    "# Definisanje podataka u transakcijskom formatu\n",
    "transactions = [\n",
    "['Cookies', 'Egg', 'Milk', 'Sandwich'],\n",
    "['Bottled Water', 'Burger', 'Chicken', 'Egg', 'Pizza', 'Salad'],\n",
    "['Beacon', 'Bottled Water', 'Egg', 'Sandwich', 'Yogurt'],\n",
    "['Burger', 'Pie', 'Pizza', 'Salad', 'Soda'],\n",
    "['Burger', 'Ice Cream', 'Pie', 'Pizza', 'Salad', 'Soda'],\n",
    "['Chocolate Shake', 'Cookies', 'Egg', 'Milk', 'Sandwich'],\n",
    "['Beacon', 'Chocolate Shake', 'Cookies', 'Milk', 'Yogurt'],\n",
    "['Bottled Water', 'Burger', 'Chicken', 'Chocolate Shake', 'Egg', 'Pie', 'Pizza', 'Salad', 'Soda'],\n",
    "['Beacon', 'Bottled Water', 'Egg', 'Milk', 'Pizza', 'Salad', 'Yogurt'],\n",
    "['Chocolate Shake', 'Cookies', 'Egg', 'Milk', 'Sandwich'],\n",
    "['Beacon', 'Burger', 'Salad'],\n",
    "['Cookies', 'Egg', 'Milk', 'Sandwich', 'Yogurt'],\n",
    "['Beacon', 'Bottled Water', 'Egg', 'Pie', 'Pizza', 'Sandwich'],\n",
    "['Cookies', 'Egg', 'Milk', 'Sandwich'],\n",
    "['Bottled Water', 'Burger', 'Chicken', 'Egg', 'Pie', 'Pizza', 'Salad']\n",
    "]"
   ],
   "metadata": {
    "collapsed": false,
    "ExecuteTime": {
     "end_time": "2023-06-07T22:17:58.583158400Z",
     "start_time": "2023-06-07T22:17:58.572844400Z"
    }
   }
  },
  {
   "cell_type": "code",
   "execution_count": 154,
   "outputs": [],
   "source": [
    "# Asocijativna pravila\n",
    "results = list(apriori(transactions, min_support=0.4, min_confidence=0.7))"
   ],
   "metadata": {
    "collapsed": false,
    "ExecuteTime": {
     "end_time": "2023-06-07T22:17:58.589769400Z",
     "start_time": "2023-06-07T22:17:58.586161100Z"
    }
   }
  },
  {
   "cell_type": "code",
   "execution_count": 155,
   "outputs": [
    {
     "name": "stdout",
     "output_type": "stream",
     "text": [
      "Rule:  -> Egg\n",
      "Support: 0.7333333333333333\n",
      "Confidence: 0.7333333333333333\n",
      "-----------------------\n",
      "Rule: Bottled Water -> Egg\n",
      "Support: 0.4\n",
      "Confidence: 1.0\n",
      "-----------------------\n",
      "Rule: Burger -> Salad\n",
      "Support: 0.4\n",
      "Confidence: 1.0\n",
      "-----------------------\n",
      "Rule: Salad -> Burger\n",
      "Support: 0.4\n",
      "Confidence: 0.8571428571428572\n",
      "-----------------------\n",
      "Rule: Cookies -> Milk\n",
      "Support: 0.4\n",
      "Confidence: 1.0\n",
      "-----------------------\n",
      "Rule: Milk -> Cookies\n",
      "Support: 0.4\n",
      "Confidence: 0.8571428571428572\n",
      "-----------------------\n",
      "Rule: Milk -> Egg\n",
      "Support: 0.4\n",
      "Confidence: 0.8571428571428572\n",
      "-----------------------\n",
      "Rule: Sandwich -> Egg\n",
      "Support: 0.4666666666666667\n",
      "Confidence: 1.0\n",
      "-----------------------\n",
      "Rule: Pizza -> Salad\n",
      "Support: 0.4\n",
      "Confidence: 0.8571428571428572\n",
      "-----------------------\n",
      "Rule: Salad -> Pizza\n",
      "Support: 0.4\n",
      "Confidence: 0.8571428571428572\n",
      "-----------------------\n"
     ]
    }
   ],
   "source": [
    "for itemset in results:\n",
    "    support = itemset.support\n",
    "    for rule in itemset.ordered_statistics:\n",
    "        antecedent = ', '.join(rule.items_base)\n",
    "        consequent = ', '.join(rule.items_add)\n",
    "        confidence = rule.confidence\n",
    "        lift = rule.lift\n",
    "\n",
    "        print(f\"Rule: {antecedent} -> {consequent}\")\n",
    "        print(f\"Support: {support}\") # učestalost pojavljivanja pravila u datasetu\n",
    "        print(f\"Confidence: {confidence}\") # Vjerovatnoca da će se B pojaviti u transakciji kada se A već pojavljuje\n",
    "        # print(f\"Lift: {lift}\") #daje informacije o učestalosti pojavljivanja pravila\n",
    "        print(\"-----------------------\")"
   ],
   "metadata": {
    "collapsed": false,
    "ExecuteTime": {
     "end_time": "2023-06-07T22:17:58.601020800Z",
     "start_time": "2023-06-07T22:17:58.596784Z"
    }
   }
  },
  {
   "cell_type": "code",
   "execution_count": 156,
   "outputs": [],
   "source": [
    "# Pokretanje Apriori algoritma za pronalaženje čestih skupova\n",
    "results = list(apriori(transactions, min_support=0.4))"
   ],
   "metadata": {
    "collapsed": false,
    "ExecuteTime": {
     "end_time": "2023-06-07T22:17:58.650784700Z",
     "start_time": "2023-06-07T22:17:58.603027600Z"
    }
   }
  },
  {
   "cell_type": "code",
   "execution_count": 157,
   "outputs": [
    {
     "name": "stdout",
     "output_type": "stream",
     "text": [
      "Itemset: Bottled Water\n",
      "Support: 0.4\n",
      "-----------------------\n",
      "Itemset: Burger\n",
      "Support: 0.4\n",
      "-----------------------\n",
      "Itemset: Cookies\n",
      "Support: 0.4\n",
      "-----------------------\n",
      "Itemset: Egg\n",
      "Support: 0.7333333333333333\n",
      "-----------------------\n",
      "Itemset: Milk\n",
      "Support: 0.4666666666666667\n",
      "-----------------------\n",
      "Itemset: Pizza\n",
      "Support: 0.4666666666666667\n",
      "-----------------------\n",
      "Itemset: Salad\n",
      "Support: 0.4666666666666667\n",
      "-----------------------\n",
      "Itemset: Sandwich\n",
      "Support: 0.4666666666666667\n",
      "-----------------------\n",
      "Itemset: Egg, Bottled Water\n",
      "Support: 0.4\n",
      "-----------------------\n",
      "Itemset: Salad, Burger\n",
      "Support: 0.4\n",
      "-----------------------\n",
      "Itemset: Cookies, Milk\n",
      "Support: 0.4\n",
      "-----------------------\n",
      "Itemset: Egg, Milk\n",
      "Support: 0.4\n",
      "-----------------------\n",
      "Itemset: Egg, Sandwich\n",
      "Support: 0.4666666666666667\n",
      "-----------------------\n",
      "Itemset: Salad, Pizza\n",
      "Support: 0.4\n",
      "-----------------------\n"
     ]
    }
   ],
   "source": [
    "for itemset in results:\n",
    "    support = itemset.support\n",
    "    items = ', '.join(itemset.items)\n",
    "    print(f\"Itemset: {items}\")\n",
    "    print(f\"Support: {support}\")\n",
    "    print(\"-----------------------\")"
   ],
   "metadata": {
    "collapsed": false,
    "ExecuteTime": {
     "end_time": "2023-06-07T22:17:58.662491700Z",
     "start_time": "2023-06-07T22:17:58.613933300Z"
    }
   }
  }
 ],
 "metadata": {
  "kernelspec": {
   "display_name": "Python 3",
   "language": "python",
   "name": "python3"
  },
  "language_info": {
   "codemirror_mode": {
    "name": "ipython",
    "version": 2
   },
   "file_extension": ".py",
   "mimetype": "text/x-python",
   "name": "python",
   "nbconvert_exporter": "python",
   "pygments_lexer": "ipython2",
   "version": "2.7.6"
  }
 },
 "nbformat": 4,
 "nbformat_minor": 0
}
