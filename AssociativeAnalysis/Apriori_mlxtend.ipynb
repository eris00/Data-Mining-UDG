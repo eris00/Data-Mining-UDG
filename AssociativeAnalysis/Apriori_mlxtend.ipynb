{
 "cells": [
  {
   "cell_type": "code",
   "execution_count": 19,
   "metadata": {
    "collapsed": true,
    "ExecuteTime": {
     "end_time": "2023-06-07T22:17:53.873911700Z",
     "start_time": "2023-06-07T22:17:53.857596700Z"
    }
   },
   "outputs": [],
   "source": [
    "from mlxtend.preprocessing import TransactionEncoder\n",
    "from mlxtend.frequent_patterns import apriori, association_rules"
   ]
  },
  {
   "cell_type": "code",
   "execution_count": 20,
   "outputs": [],
   "source": [
    "import pandas as pd\n",
    "\n",
    "\n",
    "def apriori_association_analysis(transactions, min_support, min_confidence):\n",
    "    te = TransactionEncoder()\n",
    "    te_ary = te.fit(transactions).transform(transactions)\n",
    "    df = pd.DataFrame(te_ary, columns=te.columns_)\n",
    "\n",
    "    frequent_itemsets = apriori(df, min_support=min_support, use_colnames=True)\n",
    "    rules = association_rules(frequent_itemsets, metric=\"confidence\", min_threshold=min_confidence)\n",
    "\n",
    "    return frequent_itemsets, rules"
   ],
   "metadata": {
    "collapsed": false,
    "ExecuteTime": {
     "end_time": "2023-06-07T22:17:53.873911700Z",
     "start_time": "2023-06-07T22:17:53.866850500Z"
    }
   }
  },
  {
   "cell_type": "code",
   "execution_count": 21,
   "outputs": [],
   "source": [
    "# Hardkodiranje transakcija\n",
    "transactions = [\n",
    "['Cookies', 'Egg', 'Milk', 'Sandwich'],\n",
    "['Bottled Water', 'Burger', 'Chicken', 'Egg', 'Pizza', 'Salad'],\n",
    "['Beacon', 'Bottled Water', 'Egg', 'Sandwich', 'Yogurt'],\n",
    "['Burger', 'Pie', 'Pizza', 'Salad', 'Soda'],\n",
    "['Burger', 'Ice Cream', 'Pie', 'Pizza', 'Salad', 'Soda'],\n",
    "['Chocolate Shake', 'Cookies', 'Egg', 'Milk', 'Sandwich'],\n",
    "['Beacon', 'Chocolate Shake', 'Cookies', 'Milk', 'Yogurt'],\n",
    "['Bottled Water', 'Burger', 'Chicken', 'Chocolate Shake', 'Egg', 'Pie', 'Pizza', 'Salad', 'Soda'],\n",
    "['Beacon', 'Bottled Water', 'Egg', 'Milk', 'Pizza', 'Salad', 'Yogurt'],\n",
    "['Chocolate Shake', 'Cookies', 'Egg', 'Milk', 'Sandwich'],\n",
    "['Beacon', 'Burger', 'Salad'],\n",
    "['Cookies', 'Egg', 'Milk', 'Sandwich', 'Yogurt'],\n",
    "['Beacon', 'Bottled Water', 'Egg', 'Pie', 'Pizza', 'Sandwich'],\n",
    "['Cookies', 'Egg', 'Milk', 'Sandwich'],\n",
    "['Bottled Water', 'Burger', 'Chicken', 'Egg', 'Pie', 'Pizza', 'Salad']\n",
    "]"
   ],
   "metadata": {
    "collapsed": false,
    "ExecuteTime": {
     "end_time": "2023-06-07T22:17:53.893361400Z",
     "start_time": "2023-06-07T22:17:53.871916200Z"
    }
   }
  },
  {
   "cell_type": "code",
   "execution_count": 22,
   "outputs": [],
   "source": [
    "# Poziv funkcije za Apriori asocijativnu analizu\n",
    "min_support = 0.4\n",
    "min_confidence = 0.7\n",
    "frequent_itemsets, rules = apriori_association_analysis(transactions, min_support, min_confidence)\n"
   ],
   "metadata": {
    "collapsed": false,
    "ExecuteTime": {
     "end_time": "2023-06-07T22:17:53.917548600Z",
     "start_time": "2023-06-07T22:17:53.889705100Z"
    }
   }
  },
  {
   "cell_type": "code",
   "execution_count": 23,
   "outputs": [
    {
     "name": "stdout",
     "output_type": "stream",
     "text": [
      "Cesti skupovi:\n",
      "     support              itemsets\n",
      "0   0.400000       (Bottled Water)\n",
      "1   0.400000              (Burger)\n",
      "2   0.400000             (Cookies)\n",
      "3   0.733333                 (Egg)\n",
      "4   0.466667                (Milk)\n",
      "5   0.466667               (Pizza)\n",
      "6   0.466667               (Salad)\n",
      "7   0.466667            (Sandwich)\n",
      "8   0.400000  (Bottled Water, Egg)\n",
      "9   0.400000       (Burger, Salad)\n",
      "10  0.400000       (Milk, Cookies)\n",
      "11  0.400000           (Milk, Egg)\n",
      "12  0.466667       (Sandwich, Egg)\n",
      "13  0.400000        (Salad, Pizza)\n",
      "\n",
      "Pravila asocijacije:\n",
      "       antecedents consequents  antecedent support  consequent support  \\\n",
      "0  (Bottled Water)       (Egg)            0.400000            0.733333   \n",
      "1         (Burger)     (Salad)            0.400000            0.466667   \n",
      "2          (Salad)    (Burger)            0.466667            0.400000   \n",
      "3           (Milk)   (Cookies)            0.466667            0.400000   \n",
      "4        (Cookies)      (Milk)            0.400000            0.466667   \n",
      "5           (Milk)       (Egg)            0.466667            0.733333   \n",
      "6       (Sandwich)       (Egg)            0.466667            0.733333   \n",
      "7          (Salad)     (Pizza)            0.466667            0.466667   \n",
      "8          (Pizza)     (Salad)            0.466667            0.466667   \n",
      "\n",
      "    support  confidence      lift  leverage  conviction  zhangs_metric  \n",
      "0  0.400000    1.000000  1.363636  0.106667         inf       0.444444  \n",
      "1  0.400000    1.000000  2.142857  0.213333         inf       0.888889  \n",
      "2  0.400000    0.857143  2.142857  0.213333    4.200000       1.000000  \n",
      "3  0.400000    0.857143  2.142857  0.213333    4.200000       1.000000  \n",
      "4  0.400000    1.000000  2.142857  0.213333         inf       0.888889  \n",
      "5  0.400000    0.857143  1.168831  0.057778    1.866667       0.270833  \n",
      "6  0.466667    1.000000  1.363636  0.124444         inf       0.500000  \n",
      "7  0.400000    0.857143  1.836735  0.182222    3.733333       0.854167  \n",
      "8  0.400000    0.857143  1.836735  0.182222    3.733333       0.854167  \n"
     ]
    }
   ],
   "source": [
    "# Ispis rezultata\n",
    "print(\"Cesti skupovi:\")\n",
    "print(frequent_itemsets)\n",
    "print(\"\\nPravila asocijacije:\")\n",
    "print(rules)"
   ],
   "metadata": {
    "collapsed": false,
    "ExecuteTime": {
     "end_time": "2023-06-07T22:17:53.918548800Z",
     "start_time": "2023-06-07T22:17:53.898387700Z"
    }
   }
  }
 ],
 "metadata": {
  "kernelspec": {
   "display_name": "Python 3",
   "language": "python",
   "name": "python3"
  },
  "language_info": {
   "codemirror_mode": {
    "name": "ipython",
    "version": 2
   },
   "file_extension": ".py",
   "mimetype": "text/x-python",
   "name": "python",
   "nbconvert_exporter": "python",
   "pygments_lexer": "ipython2",
   "version": "2.7.6"
  }
 },
 "nbformat": 4,
 "nbformat_minor": 0
}
