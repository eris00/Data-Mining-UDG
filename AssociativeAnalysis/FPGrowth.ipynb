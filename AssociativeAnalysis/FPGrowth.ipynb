{
 "cells": [
  {
   "cell_type": "code",
   "execution_count": null,
   "outputs": [],
   "source": [
    "from mlxtend.preprocessing import TransactionEncoder\n",
    "from mlxtend.frequent_patterns import fpgrowth, association_rules\n",
    "import pandas as pd"
   ],
   "metadata": {
    "collapsed": false
   }
  },
  {
   "cell_type": "code",
   "execution_count": null,
   "outputs": [],
   "source": [
    "\n",
    "def fp_growth_association_analysis(transactions, min_support, min_confidence):\n",
    "    # Pretvaranje transakcija u format pogodan za mlxtend\n",
    "    te = TransactionEncoder()\n",
    "    te_ary = te.fit(transactions).transform(transactions)\n",
    "    df = pd.DataFrame(te_ary, columns=te.columns_)\n",
    "\n",
    "    # Primena FP-Growth algoritma\n",
    "    frequent_itemsets = fpgrowth(df, min_support=min_support, use_colnames=True)\n",
    "\n",
    "    # Generisanje pravila asocijacije\n",
    "    rules = association_rules(frequent_itemsets, metric=\"confidence\", min_threshold=min_confidence)\n",
    "\n",
    "    return frequent_itemsets, rules\n"
   ],
   "metadata": {
    "collapsed": false
   }
  },
  {
   "cell_type": "code",
   "execution_count": null,
   "outputs": [],
   "source": [
    "# Dataset\n",
    "transactions = [\n",
    "    ['mleko', 'hleb', 'sir'],\n",
    "    ['mleko', 'hleb'],\n",
    "    ['jaja', 'sir'],\n",
    "    ['mleko', 'jaja', 'hleb'],\n",
    "    ['mleko', 'sir']\n",
    "]"
   ],
   "metadata": {
    "collapsed": false
   }
  },
  {
   "cell_type": "code",
   "execution_count": null,
   "outputs": [],
   "source": [
    "# Poziv funkcije za FP-Growth asocijativnu analizu\n",
    "min_support = 0.2\n",
    "min_confidence = 0.6\n",
    "frequent_itemsets, rules = fp_growth_association_analysis(transactions, min_support, min_confidence)"
   ],
   "metadata": {
    "collapsed": false
   }
  },
  {
   "cell_type": "code",
   "execution_count": null,
   "outputs": [],
   "source": [
    "# Ispis rezultata\n",
    "print(\"Cesti skupovi:\")\n",
    "print(frequent_itemsets)\n",
    "print(\"\\nPravila asocijacije:\")\n",
    "print(rules)"
   ],
   "metadata": {
    "collapsed": false
   }
  }
 ],
 "metadata": {
  "kernelspec": {
   "display_name": "Python 3",
   "language": "python",
   "name": "python3"
  },
  "language_info": {
   "codemirror_mode": {
    "name": "ipython",
    "version": 2
   },
   "file_extension": ".py",
   "mimetype": "text/x-python",
   "name": "python",
   "nbconvert_exporter": "python",
   "pygments_lexer": "ipython2",
   "version": "2.7.6"
  }
 },
 "nbformat": 4,
 "nbformat_minor": 0
}
