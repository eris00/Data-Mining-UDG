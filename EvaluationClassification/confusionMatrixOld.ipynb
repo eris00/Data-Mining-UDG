{
 "cells": [
  {
   "cell_type": "code",
   "execution_count": 82,
   "outputs": [],
   "source": [
    "from sklearn.metrics import cohen_kappa_score\n",
    "import numpy as np"
   ],
   "metadata": {
    "collapsed": false,
    "ExecuteTime": {
     "end_time": "2023-06-07T23:12:10.448882600Z",
     "start_time": "2023-06-07T23:12:10.423178500Z"
    }
   }
  },
  {
   "cell_type": "code",
   "execution_count": 83,
   "outputs": [],
   "source": [
    "confusion_matrix = [[41, 16], [21, 13]]"
   ],
   "metadata": {
    "collapsed": false,
    "ExecuteTime": {
     "end_time": "2023-06-07T23:12:10.450847100Z",
     "start_time": "2023-06-07T23:12:10.430876700Z"
    }
   }
  },
  {
   "cell_type": "code",
   "execution_count": 84,
   "outputs": [],
   "source": [
    "true_positives = 41\n",
    "true_negatives = 13\n",
    "false_positives = 16\n",
    "false_negatives = 21"
   ],
   "metadata": {
    "collapsed": false,
    "ExecuteTime": {
     "end_time": "2023-06-07T23:12:10.479716Z",
     "start_time": "2023-06-07T23:12:10.449840600Z"
    }
   }
  },
  {
   "cell_type": "code",
   "execution_count": 85,
   "outputs": [],
   "source": [
    "accuracy = (true_positives + true_negatives) / np.sum(confusion_matrix)\n",
    "precision = true_positives / (true_positives + false_positives)\n",
    "recall = true_positives / (true_positives + false_negatives)\n",
    "f_score = 2 * (precision * recall) / (precision + recall)\n",
    "error_rate = (false_positives + false_negatives) / np.sum(confusion_matrix)\n",
    "specificity = true_negatives / (true_negatives + false_positives)\n",
    "sensitivity = true_positives / (true_positives + false_negatives)\n",
    "\n",
    "# Izračunajte Kappa statistiku # NE FUNKCIONIŠE!!!\n",
    "y_true = [1, 0, 1, 0, 1]\n",
    "y_pred = [1, 1, 0, 0, 1]\n",
    "kappa = cohen_kappa_score(y_true, y_pred)"
   ],
   "metadata": {
    "collapsed": false,
    "ExecuteTime": {
     "end_time": "2023-06-07T23:12:10.480723300Z",
     "start_time": "2023-06-07T23:12:10.449840600Z"
    }
   }
  },
  {
   "cell_type": "code",
   "execution_count": 86,
   "outputs": [
    {
     "name": "stdout",
     "output_type": "stream",
     "text": [
      "Accuracy: 0.5934065934065934\n",
      "Precision: 0.7192982456140351\n",
      "Recall: 0.6612903225806451\n",
      "F-Score: 0.689075630252101\n",
      "Error Rate: 0.4065934065934066\n",
      "Specificity: 0.4482758620689655\n",
      "Sensitivity: 0.6612903225806451\n",
      "Kappa Statistic: 0.16666666666666663\n"
     ]
    }
   ],
   "source": [
    "print(\"Accuracy:\", accuracy) # tačnost\n",
    "print(\"Precision:\", precision) # preciznost\n",
    "print(\"Recall:\", recall) # odziv\n",
    "print(\"F-Score:\", f_score) # f-score\n",
    "print(\"Error Rate:\", error_rate) # stepen greške\n",
    "print(\"Specificity:\", specificity) # specificity\n",
    "print(\"Sensitivity:\", sensitivity)\n",
    "print(\"Kappa Statistic:\", kappa)"
   ],
   "metadata": {
    "collapsed": false,
    "ExecuteTime": {
     "end_time": "2023-06-07T23:12:10.480723300Z",
     "start_time": "2023-06-07T23:12:10.456839700Z"
    }
   }
  },
  {
   "cell_type": "code",
   "execution_count": 86,
   "outputs": [],
   "source": [],
   "metadata": {
    "collapsed": false,
    "ExecuteTime": {
     "end_time": "2023-06-07T23:12:10.480723300Z",
     "start_time": "2023-06-07T23:12:10.465000600Z"
    }
   }
  }
 ],
 "metadata": {
  "kernelspec": {
   "display_name": "Python 3",
   "language": "python",
   "name": "python3"
  },
  "language_info": {
   "codemirror_mode": {
    "name": "ipython",
    "version": 2
   },
   "file_extension": ".py",
   "mimetype": "text/x-python",
   "name": "python",
   "nbconvert_exporter": "python",
   "pygments_lexer": "ipython2",
   "version": "2.7.6"
  }
 },
 "nbformat": 4,
 "nbformat_minor": 0
}
