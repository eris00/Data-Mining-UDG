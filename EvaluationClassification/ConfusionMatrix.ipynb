{
 "cells": [
  {
   "cell_type": "code",
   "execution_count": 40,
   "outputs": [],
   "source": [
    "from sklearn.metrics import confusion_matrix\n",
    "import numpy as np\n",
    "from matplotlib import cm"
   ],
   "metadata": {
    "collapsed": false,
    "ExecuteTime": {
     "end_time": "2023-06-07T23:17:25.195360100Z",
     "start_time": "2023-06-07T23:17:25.181000300Z"
    }
   }
  },
  {
   "cell_type": "code",
   "execution_count": 41,
   "outputs": [],
   "source": [
    "# Definisanje matrice\n",
    "confusion_matrix = [[41, 16], [21, 13]]\n",
    "\n",
    "# Oblik matrice: [[TP, FP][FN, TN]]\n"
   ],
   "metadata": {
    "collapsed": false,
    "ExecuteTime": {
     "end_time": "2023-06-07T23:17:25.195360100Z",
     "start_time": "2023-06-07T23:17:25.188266100Z"
    }
   }
  },
  {
   "cell_type": "code",
   "execution_count": 42,
   "outputs": [],
   "source": [
    "# Izračunavanje metrika\n",
    "#tn, fp, fn, tp = confusion_matrix[0][0], confusion_matrix[0][1], confusion_matrix[1][0], confusion_matrix[1][1]\n",
    "tp = 41\n",
    "tn = 13\n",
    "fp = 16\n",
    "fn = 21"
   ],
   "metadata": {
    "collapsed": false,
    "ExecuteTime": {
     "end_time": "2023-06-07T23:17:25.207467500Z",
     "start_time": "2023-06-07T23:17:25.193354500Z"
    }
   }
  },
  {
   "cell_type": "code",
   "execution_count": 43,
   "outputs": [],
   "source": [
    "# Izracunavanje metrika\n",
    "accuracy = (tp + tn) / (tp + tn + fp + fn)\n",
    "error_rate = (fp + fn) / (tp + tn + fp + fn)\n",
    "precision = tp / (tp + fp)\n",
    "sensitivity = tp / (tp + fn)\n",
    "specificity = tn / (tn + fp)\n",
    "recall = sensitivity\n",
    "f_score = 2 * precision * recall / (precision + recall)\n",
    "kappa = (accuracy - error_rate) / (1 - error_rate)\n"
   ],
   "metadata": {
    "collapsed": false,
    "ExecuteTime": {
     "end_time": "2023-06-07T23:17:25.207467500Z",
     "start_time": "2023-06-07T23:17:25.204466300Z"
    }
   }
  },
  {
   "cell_type": "code",
   "execution_count": 44,
   "outputs": [
    {
     "name": "stdout",
     "output_type": "stream",
     "text": [
      "Konfuzijska matrica:\n",
      "[[41, 16], [21, 13]]\n",
      "\n",
      "Metrike:\n",
      "Tacnost (Accuracy): 0.5934065934065934\n",
      "Stepen Greske (Error rate): 0.4065934065934066\n",
      "Preciznost (Precision): 0.7192982456140351\n",
      "Osjetljivost (Sensitivity): 0.6612903225806451\n",
      "Specificnost (Specifity): 0.4482758620689655\n",
      "Opoziv (Recall): 0.6612903225806451\n",
      "F-score: 0.689075630252101\n",
      "Kappa statistika: 0.3148148148148148\n"
     ]
    }
   ],
   "source": [
    "# Ispis rezultata\n",
    "print(\"Konfuzijska matrica:\")\n",
    "print(confusion_matrix)\n",
    "print(\"\\nMetrike:\")\n",
    "print(f\"Tacnost (Accuracy): {accuracy}\")\n",
    "print(f\"Stepen Greske (Error rate): {error_rate}\")\n",
    "print(f\"Preciznost (Precision): {precision}\")\n",
    "print(f\"Osjetljivost (Sensitivity): {sensitivity}\")\n",
    "print(f\"Specificnost (Specifity): {specificity}\")\n",
    "print(f\"Opoziv (Recall): {recall}\")\n",
    "print(f\"F-score: {f_score}\")\n",
    "print(f\"Kappa statistika: {kappa}\")"
   ],
   "metadata": {
    "collapsed": false,
    "ExecuteTime": {
     "end_time": "2023-06-07T23:17:25.228424200Z",
     "start_time": "2023-06-07T23:17:25.209464Z"
    }
   }
  }
 ],
 "metadata": {
  "kernelspec": {
   "display_name": "Python 3",
   "language": "python",
   "name": "python3"
  },
  "language_info": {
   "codemirror_mode": {
    "name": "ipython",
    "version": 2
   },
   "file_extension": ".py",
   "mimetype": "text/x-python",
   "name": "python",
   "nbconvert_exporter": "python",
   "pygments_lexer": "ipython2",
   "version": "2.7.6"
  }
 },
 "nbformat": 4,
 "nbformat_minor": 0
}
