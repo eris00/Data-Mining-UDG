{
 "cells": [
  {
   "cell_type": "code",
   "execution_count": null,
   "metadata": {
    "collapsed": true
   },
   "outputs": [],
   "source": [
    "import pandas as pd\n",
    "import numpy as np\n",
    "import matplotlib.pyplot as plt\n",
    "from sklearn.preprocessing import LabelEncoder\n",
    "from sklearn.model_selection import train_test_split\n",
    "from sklearn.metrics import accuracy_score, confusion_matrix, classification_report\n",
    "from sklearn import tree\n",
    "from sklearn.feature_selection import f_classif\n",
    "from sklearn.tree import DecisionTreeClassifier"
   ]
  },
  {
   "cell_type": "code",
   "execution_count": null,
   "outputs": [],
   "source": [
    "# Učitavanje dataset-a\n",
    "df = pd.read_csv('diabetes_data.csv')\n",
    "df = pd.DataFrame(df)"
   ],
   "metadata": {
    "collapsed": false
   }
  },
  {
   "cell_type": "code",
   "execution_count": null,
   "outputs": [],
   "source": [
    "plt.hist(df['Age'], bins=10, edgecolor='black')\n",
    "plt.xlabel('Age')\n",
    "plt.ylabel('Frequency')\n",
    "plt.title('Histogram of Age')\n",
    "plt.show()"
   ],
   "metadata": {
    "collapsed": false
   }
  },
  {
   "cell_type": "code",
   "execution_count": null,
   "outputs": [],
   "source": [
    "gender_counts = df['Gender'].value_counts()\n",
    "plt.bar(gender_counts.index, gender_counts.values)\n",
    "plt.xlabel('Gender')\n",
    "plt.ylabel('Count')\n",
    "plt.title('Bar Chart of Gender')\n",
    "plt.show()"
   ],
   "metadata": {
    "collapsed": false
   }
  },
  {
   "cell_type": "code",
   "execution_count": null,
   "outputs": [],
   "source": [
    "# Predprocesiranje podataka\n",
    "label_encoder = LabelEncoder()\n",
    "binary_columns = ['Gender','Polyuria', 'Polydipsia', 'sudden weight loss', 'weakness', 'Polyphagia', 'Genital thrush',\n",
    "                  'visual blurring', 'Itching', 'Irritability', 'delayed healing', 'partial paresis',\n",
    "                  'muscle stiffness', 'Alopecia', 'Obesity', 'class']\n",
    "\n",
    "for column in binary_columns:\n",
    "    df[column] = label_encoder.fit_transform(df[column])"
   ],
   "metadata": {
    "collapsed": false
   }
  },
  {
   "cell_type": "code",
   "execution_count": null,
   "outputs": [],
   "source": [
    "df"
   ],
   "metadata": {
    "collapsed": false
   }
  },
  {
   "cell_type": "code",
   "execution_count": null,
   "outputs": [],
   "source": [
    "X = df.drop(['class'], axis=1)\n",
    "y = df['class']\n",
    "\n",
    "# Podjela podataka na skupove za treniranje i testiranje\n",
    "X_train, X_test, y_train, y_test = train_test_split(X, y, test_size=0.25, random_state=17)"
   ],
   "metadata": {
    "collapsed": false
   }
  },
  {
   "cell_type": "code",
   "execution_count": null,
   "outputs": [],
   "source": [
    "# Primjena ANOVA testiranja hipoteza i odabir k atributa\n",
    "def select_features(X_train, y_train, k):\n",
    "    f_scores, p_values = f_classif(X_train, y_train)\n",
    "    selected_indices = np.argsort(f_scores)[-k:]\n",
    "    return selected_indices"
   ],
   "metadata": {
    "collapsed": false
   }
  },
  {
   "cell_type": "code",
   "execution_count": null,
   "outputs": [],
   "source": [
    "# Konstrukcija stabla odlučivanja na osnovu odabranih atributa\n",
    "def build_decision_tree(X_train, y_train):\n",
    "    clf = DecisionTreeClassifier()\n",
    "    clf.fit(X_train, y_train)\n",
    "    return clf"
   ],
   "metadata": {
    "collapsed": false
   }
  },
  {
   "cell_type": "code",
   "execution_count": null,
   "outputs": [],
   "source": [
    "# Odabir atributa pomoću ANOVA testiranja hipoteza\n",
    "selected_indices = select_features(X_train, y_train, 10)"
   ],
   "metadata": {
    "collapsed": false
   }
  },
  {
   "cell_type": "code",
   "execution_count": null,
   "outputs": [],
   "source": [
    "# Odabir samo odabranih atributa za treniranje i testiranje\n",
    "X_train_selected = X_train.iloc[:, selected_indices]\n",
    "X_test_selected = X_test.iloc[:, selected_indices]\n"
   ],
   "metadata": {
    "collapsed": false
   }
  },
  {
   "cell_type": "code",
   "execution_count": null,
   "outputs": [],
   "source": [
    "X_test_selected"
   ],
   "metadata": {
    "collapsed": false
   }
  },
  {
   "cell_type": "code",
   "execution_count": null,
   "outputs": [],
   "source": [
    "# Konstrukcija stabla odlučivanja na osnovu odabranih atributa\n",
    "clf = build_decision_tree(X_train_selected, y_train)"
   ],
   "metadata": {
    "collapsed": false
   }
  },
  {
   "cell_type": "code",
   "execution_count": null,
   "outputs": [],
   "source": [
    "# Ispis stabla odlučivanja\n",
    "fig = plt.figure(figsize=(35, 35))\n",
    "_ = tree.plot_tree(clf, feature_names=X.columns, class_names=['False', 'True'], filled=True)\n",
    "plt.show()"
   ],
   "metadata": {
    "collapsed": false
   }
  },
  {
   "cell_type": "code",
   "execution_count": null,
   "outputs": [],
   "source": [
    "# Predikcija testnog skupa\n",
    "y_pred = clf.predict(X_test_selected)\n",
    "y_pred"
   ],
   "metadata": {
    "collapsed": false
   }
  },
  {
   "cell_type": "code",
   "execution_count": null,
   "outputs": [],
   "source": [
    "\n",
    "# Evaluacija Klasifikatora\n"
   ],
   "metadata": {
    "collapsed": false
   }
  },
  {
   "cell_type": "code",
   "execution_count": null,
   "outputs": [],
   "source": [
    "from sklearn.metrics import precision_recall_curve\n",
    "\n",
    "precision, recall, thresholds = precision_recall_curve(y_test, y_pred)\n",
    "plt.plot(recall, precision)\n",
    "plt.xlabel('Recall')\n",
    "plt.ylabel('Precision')\n",
    "plt.title('Precision-Recall Curve')\n",
    "plt.show()"
   ],
   "metadata": {
    "collapsed": false
   }
  },
  {
   "cell_type": "code",
   "execution_count": null,
   "outputs": [],
   "source": [
    "from sklearn.metrics import roc_curve, auc\n",
    "\n",
    "fpr, tpr, _ = roc_curve(y_test, y_pred)\n",
    "roc_auc = auc(fpr, tpr)\n",
    "plt.plot(fpr, tpr)\n",
    "plt.xlabel('False Positive Rate')\n",
    "plt.ylabel('True Positive Rate')\n",
    "plt.title('Receiver Operating Characteristic (ROC) Curve')\n",
    "plt.show()"
   ],
   "metadata": {
    "collapsed": false
   }
  },
  {
   "cell_type": "code",
   "execution_count": null,
   "outputs": [],
   "source": [
    "# Tačnost predikcije\n",
    "accuracy = accuracy_score(y_test, y_pred)\n",
    "print(\"Tačnost predikcije: \", accuracy)"
   ],
   "metadata": {
    "collapsed": false
   }
  },
  {
   "cell_type": "code",
   "execution_count": null,
   "outputs": [],
   "source": [
    "import seaborn as sns\n",
    "import matplotlib.pyplot as plt\n",
    "\n",
    "# Izračunajte konfuzijsku matricu\n",
    "cm = confusion_matrix(y_test, y_pred)\n",
    "\n",
    "# Kreirajte heatmapu konfuzijske matrice\n",
    "sns.heatmap(cm, annot=True, fmt=\"d\", cmap=\"Blues\")\n",
    "\n",
    "# Dodajte oznake osi i naslov\n",
    "plt.xlabel(\"Predicted\")\n",
    "plt.ylabel(\"True\")\n",
    "plt.title(\"Confusion Matrix\")\n",
    "\n",
    "# Prikazati grafik\n",
    "plt.show()\n",
    "'''\n",
    "Gornji lijevi element (53) predstavlja broj uzoraka koji pripadaju negativnoj klasi (stvarno negativni) i koji su ispravno predviđeni kao negativni.\n",
    "Gornji desni element (2) predstavlja broj uzoraka koji pripadaju negativnoj klasi (stvarno negativni), ali su pogrešno predviđeni kao pozitivni.\n",
    "Donji lijevi element (6) predstavlja broj uzoraka koji pripadaju pozitivnoj klasi (stvarno pozitivni), ali su pogrešno predviđeni kao negativni.\n",
    "Donji desni element (69) predstavlja broj uzoraka koji pripadaju pozitivnoj klasi (stvarno pozitivni) i koji su ispravno predviđeni kao pozitivni.\n",
    "'''"
   ],
   "metadata": {
    "collapsed": false
   }
  },
  {
   "cell_type": "code",
   "execution_count": null,
   "outputs": [],
   "source": [
    "report = classification_report(y_test, y_pred)\n",
    "print(\"Izvještaj klasifikacije:\\n\", report)"
   ],
   "metadata": {
    "collapsed": false
   }
  },
  {
   "cell_type": "code",
   "execution_count": null,
   "outputs": [],
   "source": [
    "# Izvršavanje klasifikacije nad jednim podatkom 0:no 1:yes\n",
    "new_data = {\n",
    "    'Alopecia': [0], 'weakness': [1], 'visual blurring': [1], 'Irritability': [1], 'Polyphagia': [0], 'sudden weight loss': [1], 'partial paresis': [1], 'Gender': [0], 'Polydipsia': [0], 'Polyuria': [1], 'class': [1]\n",
    "}\n",
    "\n",
    "new_data_df = pd.DataFrame(new_data)\n",
    "\n",
    "# Izdvajanje karakteristika za predikciju\n",
    "X_new = new_data_df.drop(['class'], axis=1)\n",
    "# Izvršavanje predikcije na novim podacima\n",
    "y_new_pred = clf.predict(X_new)\n",
    "\n",
    "# Ispis predikcije\n",
    "print(\"Da li ćosoba potencijalno ima dijabetes: \", y_new_pred)"
   ],
   "metadata": {
    "collapsed": false
   }
  }
 ],
 "metadata": {
  "kernelspec": {
   "display_name": "Python 3",
   "language": "python",
   "name": "python3"
  },
  "language_info": {
   "codemirror_mode": {
    "name": "ipython",
    "version": 2
   },
   "file_extension": ".py",
   "mimetype": "text/x-python",
   "name": "python",
   "nbconvert_exporter": "python",
   "pygments_lexer": "ipython2",
   "version": "2.7.6"
  }
 },
 "nbformat": 4,
 "nbformat_minor": 0
}
