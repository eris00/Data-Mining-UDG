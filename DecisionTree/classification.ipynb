{
 "cells": [
  {
   "cell_type": "code",
   "execution_count": null,
   "metadata": {
    "collapsed": true
   },
   "outputs": [],
   "source": [
    "import pandas as pd\n",
    "import matplotlib.pyplot as plt\n",
    "from sklearn.preprocessing import LabelEncoder\n",
    "from sklearn.model_selection import train_test_split\n",
    "from sklearn.tree import DecisionTreeClassifier, export_text\n",
    "from sklearn.metrics import accuracy_score, confusion_matrix, classification_report\n",
    "from sklearn import tree"
   ]
  },
  {
   "cell_type": "code",
   "execution_count": null,
   "outputs": [],
   "source": [
    "# Učitavanje dataset-a\n",
    "data = {\n",
    "    'Maticna planeta': ['Earth', 'Europa', 'Europa', 'Europa', 'Mars', 'Earth', 'Mars', 'Earth', 'Mars', 'Earth', 'Earth', 'Earth', 'Earth', 'Earth', 'Earth', 'Earth', 'Europa', 'Earth', 'Europa', 'Mars', 'Mars', 'Europa', 'Earth', 'Earth'],\n",
    "\n",
    "    'Kabina': ['F/0/5', 'B/1/P', 'B/1/P', 'B/1/P', 'F/1/P', 'G/1/S', 'F/3/P', 'F/4/P', 'F/5/P', 'G/0/P', 'F/6/P', 'E/0/S', 'E/0/S', 'E/0/S', 'E/0/S', 'E/0/S', 'C/2/S', 'F/6/S', 'C/0/P', 'F/9/P', 'F/9/P', 'D/1/S', 'G/3/P', 'G/7/S'],\n",
    "\n",
    "    'Destinacija': ['TRAPPIST-1e', '55 Cancri e', 'TRAPPIST-1e', '55 Cancri e', 'TRAPPIST-1e', 'TRAPPIST-1e', '55 Cancri e', '55 Cancri e', 'TRAPPIST-1e', 'TRAPPIST-1e', '55 Cancri e', 'TRAPPIST-1e', '55 Cancri e', 'TRAPPIST-1e', 'PSO J318.5-22', 'TRAPPIST-1e', 'TRAPPIST-1e', 'TRAPPIST-1e', '55 Cancri e', 'TRAPPIST-1e', 'TRAPPIST-1e', '55 Cancri e', 'PSO J318.5-22', 'PSO J318.5-22'],\n",
    "\n",
    "    'Starost': [24, 14, 34, 45, 32, 48, 27, 24, 45, 0, 14, 1, 49, 10, 1, 7, 62, 15, 34, 47, 2, 28, 21, 36],\n",
    "\n",
    "    'VIP': [False, False, False, False, False, False, False, False, False, False, False, False, False, False, False, False, False, False, False, False, False, False, False, False],\n",
    "\n",
    "    'Ime': ['Juanna Vines', 'Erraiam Flatic', 'Altmair Flatic', 'Wezena Flatic', 'Berens Barne', 'Rensey Baketton', 'Flats Eccle', 'Carry Hugh', 'Alus Upread',  'Lyde Brightt', 'Philda Brightt', 'Almary Bratmaez', 'Glendy Bratmaez', 'Brenley Jacostanley', 'Mael Brantuarez', 'Terta Mcfaddemnon', 'Penton Fullided', 'Karard Brookenson', 'Anoyoni Unconsary', 'Coobix Datie', 'Cinets Datie', 'Ziba Qingwhedly', 'Cassa Cooperlandez', 'Warry Ayalazquez'],\n",
    "\n",
    "    'Da li je prevezen': [True, True, True, True, True, False, False, False, True, True, False, False, False, True, False, False, True, False, False, True, True, True, True, False]\n",
    "}\n",
    "\n",
    "df = pd.DataFrame(data)"
   ],
   "metadata": {
    "collapsed": false
   }
  },
  {
   "cell_type": "code",
   "execution_count": null,
   "outputs": [],
   "source": [
    "# Predprocesiranje podataka (kodiranje kategoričkih varijabli ili normalizacija numeričkih varijabli)\n",
    "label_encoder = LabelEncoder()\n",
    "df['Maticna planeta'] = label_encoder.fit_transform(df['Maticna planeta']) #kodiranje 'Maticna' Planeta kolone\n",
    "df['Kabina'] = label_encoder.fit_transform(df['Kabina']) #Kodiranje 'Kabina' kolone\n",
    "df['Destinacija'] = label_encoder.fit_transform(df['Destinacija']) #Kodiranje 'Destinacija' kolone\n"
   ],
   "metadata": {
    "collapsed": false
   }
  },
  {
   "cell_type": "code",
   "execution_count": null,
   "outputs": [],
   "source": [
    "# Ispis kodiranog dataset-a\n",
    "df"
   ],
   "metadata": {
    "collapsed": false
   }
  },
  {
   "cell_type": "code",
   "execution_count": null,
   "outputs": [],
   "source": [
    "# Podjela podataka na skupove za treniranje i testiranje\n",
    "\n",
    "X = df.drop(['Da li je prevezen', 'Ime'], axis=1)\n",
    "y = df['Da li je prevezen']\n",
    "\n",
    "X_train, X_test, y_train, y_test = train_test_split(X, y, test_size= 0.25, random_state=17)"
   ],
   "metadata": {
    "collapsed": false
   }
  },
  {
   "cell_type": "code",
   "execution_count": null,
   "outputs": [],
   "source": [
    "''''''\n",
    "from sklearn.feature_selection import SelectKBest, f_classif\n",
    "selector = SelectKBest(score_func=f_classif, k=3)\n",
    "X_train_selected = selector.fit_transform(X_train, y_train)\n",
    "X_test_selected = selector.transform(X_test)\n",
    "''''''"
   ],
   "metadata": {
    "collapsed": false
   }
  },
  {
   "cell_type": "code",
   "execution_count": null,
   "outputs": [],
   "source": [
    "X_train"
   ],
   "metadata": {
    "collapsed": false
   }
  },
  {
   "cell_type": "code",
   "execution_count": null,
   "outputs": [],
   "source": [
    "X_train_selected"
   ],
   "metadata": {
    "collapsed": false
   }
  },
  {
   "cell_type": "code",
   "execution_count": null,
   "outputs": [],
   "source": [
    "# Izgradnja stabla odlučivanja i klasifikacija\n",
    "clf = DecisionTreeClassifier()\n",
    "clf.fit(X_train, y_train)"
   ],
   "metadata": {
    "collapsed": false
   }
  },
  {
   "cell_type": "code",
   "execution_count": null,
   "outputs": [],
   "source": [
    "# Pretvaranje indeksa u listu\n",
    "feature_names = list(X.columns)\n",
    "\n",
    "# Ispis stabla odlučivanja\n",
    "tree_text = export_text(clf, feature_names=feature_names)\n",
    "print(tree_text)"
   ],
   "metadata": {
    "collapsed": false
   }
  },
  {
   "cell_type": "code",
   "execution_count": null,
   "outputs": [],
   "source": [
    "# Ispis stabla odlučivanja\n",
    "fig = plt.figure(figsize=(20, 20))\n",
    "_ = tree.plot_tree(clf, feature_names=X.columns, class_names=['False', 'True'], filled=True)\n",
    "plt.show()"
   ],
   "metadata": {
    "collapsed": false
   }
  },
  {
   "cell_type": "code",
   "execution_count": null,
   "outputs": [],
   "source": [
    "# Predviđanje testnog skupa (PREDIKCIJA)\n",
    "y_pred = clf.predict(X_test)\n",
    "y_pred"
   ],
   "metadata": {
    "collapsed": false
   }
  },
  {
   "cell_type": "code",
   "execution_count": null,
   "outputs": [],
   "source": [
    "# Tačnost predikcije\n",
    "accuracy = accuracy_score(y_test, y_pred)\n",
    "print(\"Tačnost predikcije: \", accuracy)"
   ],
   "metadata": {
    "collapsed": false
   }
  },
  {
   "cell_type": "code",
   "execution_count": null,
   "outputs": [],
   "source": [
    "# Matrica konfuzije\n",
    "cm = confusion_matrix(y_test, y_pred)\n",
    "print(\"Matrica konfuzije:\\n\", cm)"
   ],
   "metadata": {
    "collapsed": false
   }
  },
  {
   "cell_type": "code",
   "execution_count": null,
   "outputs": [],
   "source": [
    "report = classification_report(y_test, y_pred)\n",
    "print(\"Izvještaj klasifikacije:\\n\", report)"
   ],
   "metadata": {
    "collapsed": false
   }
  },
  {
   "cell_type": "code",
   "execution_count": null,
   "outputs": [],
   "source": [
    "# Filterovana predikcija\n",
    "\n",
    "# Filtriranje podataka za putnike iz matične planete Europa i koji nisu VIP\n",
    "filtered_data = df[(df['Maticna planeta'] == 0) & (df['VIP'] == False)]\n",
    "# Izdvajanje karakteristika za klasifikaciju\n",
    "X_pred = filtered_data.drop(['Da li je prevezen', 'Ime'], axis=1)\n",
    "\n",
    "# Napravi predikciju\n",
    "y_pred = clf.predict(X_pred)\n",
    "\n",
    "# Ispis predikcija\n",
    "print(y_pred)"
   ],
   "metadata": {
    "collapsed": false
   }
  },
  {
   "cell_type": "code",
   "execution_count": null,
   "outputs": [],
   "source": [
    "# Izvršavanje klasifikacije nad jednim podatkom\n",
    "new_data = {\n",
    "    'Maticna planeta': [0],\n",
    "    'Kabina': [4],\n",
    "    'Destinacija': [7],\n",
    "    'Starost': [28],\n",
    "    'VIP': [False],\n",
    "    'Ime': ['John Doe'],\n",
    "    'Da li je prevezen': [False]\n",
    "}\n",
    "\n",
    "# Pretvaranje riječnika u DataFrame\n",
    "new_data_df = pd.DataFrame(new_data)\n",
    "\n",
    "# Izdvajanje karakteristika za predikciju\n",
    "X_new = new_data_df.drop(['Da li je prevezen', 'Ime'], axis=1)\n",
    "\n",
    "# Izvršavanje predikcije na novim podacima\n",
    "y_new_pred = clf.predict(X_new)\n",
    "\n",
    "# Ispis predikcije\n",
    "print(\"Da li će osoba biti pronađena: \", y_new_pred)"
   ],
   "metadata": {
    "collapsed": false
   }
  }
 ],
 "metadata": {
  "kernelspec": {
   "display_name": "Python 3",
   "language": "python",
   "name": "python3"
  },
  "language_info": {
   "codemirror_mode": {
    "name": "ipython",
    "version": 2
   },
   "file_extension": ".py",
   "mimetype": "text/x-python",
   "name": "python",
   "nbconvert_exporter": "python",
   "pygments_lexer": "ipython2",
   "version": "2.7.6"
  }
 },
 "nbformat": 4,
 "nbformat_minor": 0
}
