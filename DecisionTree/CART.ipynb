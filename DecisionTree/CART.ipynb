{
 "cells": [
  {
   "cell_type": "code",
   "execution_count": null,
   "metadata": {
    "collapsed": true
   },
   "outputs": [],
   "source": [
    "import pandas as pd\n",
    "from sklearn.tree import DecisionTreeClassifier\n",
    "from sklearn import preprocessing\n",
    "import matplotlib.pyplot as plt\n",
    "from sklearn.tree import plot_tree"
   ]
  },
  {
   "cell_type": "code",
   "execution_count": null,
   "outputs": [],
   "source": [
    "# Unos podataka\n",
    "data = {\n",
    "    'age': ['young', 'young', 'middle_aged', 'senior', 'senior', 'senior', 'middle_aged', 'young', 'young', 'senior', 'young', 'middle_aged', 'middle_aged', 'senior', 'young', 'young', 'senior', 'young', 'middle_aged'],\n",
    "\n",
    "    'income': ['high', 'high', 'high', 'medium', 'low', 'low', 'low', 'medium', 'low', 'medium', 'medium', 'medium', 'high', 'medium', 'medium', 'high', 'medium', 'high', 'medium'],\n",
    "\n",
    "    'student': ['no', 'no', 'no', 'no', 'yes', 'yes', 'yes', 'no', 'yes', 'yes', 'yes', 'no', 'yes', 'yes', 'no', 'yes', 'yes', 'no', 'no'],\n",
    "\n",
    "    'credit_rating': ['fair', 'excellent', 'fair', 'fair', 'fair', 'excellent', 'excellent', 'fair', 'fair', 'fair', 'excellent', 'excellent', 'fair', 'fair', 'excellent', 'excellent', 'fair', 'excellent', 'fair'],\n",
    "\n",
    "    'class:buys_computer': ['no', 'no', 'yes', 'yes', 'yes', 'no', 'yes', 'no', 'yes', 'yes', 'yes', 'yes', 'yes', 'yes', 'no', 'no', 'yes', 'no', 'yes']\n",
    "}"
   ],
   "metadata": {
    "collapsed": false
   }
  },
  {
   "cell_type": "code",
   "execution_count": null,
   "outputs": [],
   "source": [
    "# Pretvaranje podataka u DataFrame\n",
    "df = pd.DataFrame(data)"
   ],
   "metadata": {
    "collapsed": false
   }
  },
  {
   "cell_type": "code",
   "execution_count": null,
   "outputs": [],
   "source": [
    "# Preprocess categorical features\n",
    "le = preprocessing.LabelEncoder()\n",
    "df_encoded = df.apply(le.fit_transform)"
   ],
   "metadata": {
    "collapsed": false
   }
  },
  {
   "cell_type": "code",
   "execution_count": null,
   "outputs": [],
   "source": [
    "# Split features and target variable\n",
    "X = df_encoded.drop(columns=['class:buys_computer'])\n",
    "y = df_encoded['class:buys_computer']"
   ],
   "metadata": {
    "collapsed": false
   }
  },
  {
   "cell_type": "code",
   "execution_count": null,
   "outputs": [],
   "source": [
    "# Build and train the decision tree classifier\n",
    "clf = DecisionTreeClassifier(criterion='gini')\n",
    "clf.fit(X, y)"
   ],
   "metadata": {
    "collapsed": false
   }
  },
  {
   "cell_type": "code",
   "execution_count": null,
   "outputs": [],
   "source": [
    "# Plot the decision tree\n",
    "plt.figure(figsize=(8, 6))\n",
    "plot_tree(clf, feature_names=df.columns[:-1], class_names=le.classes_)\n",
    "plt.show()"
   ],
   "metadata": {
    "collapsed": false
   }
  },
  {
   "cell_type": "code",
   "execution_count": null,
   "outputs": [],
   "source": [
    "# Izvrši predikciju za određeni uzorak\n",
    "sample = [1, 1, 0, 1]  # Primer ulaznih vrednosti (age, income, student, credit_rating)\n",
    "\n",
    "predicted_class = clf.predict([sample])\n",
    "\n",
    "# Dekodirajte numeričku vrednost u originalnu klasu\n",
    "predicted_class = le.inverse_transform(predicted_class)\n",
    "\n",
    "print(\"Predicted class: \", predicted_class)"
   ],
   "metadata": {
    "collapsed": false
   }
  }
 ],
 "metadata": {
  "kernelspec": {
   "display_name": "Python 3",
   "language": "python",
   "name": "python3"
  },
  "language_info": {
   "codemirror_mode": {
    "name": "ipython",
    "version": 2
   },
   "file_extension": ".py",
   "mimetype": "text/x-python",
   "name": "python",
   "nbconvert_exporter": "python",
   "pygments_lexer": "ipython2",
   "version": "2.7.6"
  }
 },
 "nbformat": 4,
 "nbformat_minor": 0
}
