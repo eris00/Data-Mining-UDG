{
 "cells": [
  {
   "cell_type": "code",
   "execution_count": 129,
   "metadata": {
    "collapsed": true,
    "ExecuteTime": {
     "end_time": "2023-06-15T07:27:35.732342100Z",
     "start_time": "2023-06-15T07:27:35.719188800Z"
    }
   },
   "outputs": [],
   "source": [
    "import pandas as pd\n",
    "import numpy as np\n",
    "import statsmodels.api as sm\n",
    "from sklearn.model_selection import train_test_split\n",
    "import matplotlib.pyplot as plt\n",
    "from sklearn.preprocessing import LabelEncoder\n",
    "from sklearn.model_selection import train_test_split\n",
    "from sklearn.tree import DecisionTreeClassifier, export_text\n",
    "from sklearn.metrics import accuracy_score, confusion_matrix, classification_report\n",
    "from sklearn.feature_selection import f_classif\n",
    "from sklearn.tree import DecisionTreeClassifier\n",
    "from sklearn import tree"
   ]
  },
  {
   "cell_type": "code",
   "execution_count": 130,
   "outputs": [],
   "source": [
    "# Učitavanje dataset-a\n",
    "data = {\n",
    "    'Maticna planeta': ['Earth', 'Europa', 'Europa', 'Europa', 'Mars', 'Earth', 'Mars', 'Earth', 'Mars', 'Earth', 'Earth', 'Earth', 'Earth', 'Earth', 'Earth', 'Earth', 'Europa', 'Earth', 'Europa', 'Mars', 'Mars', 'Europa', 'Earth', 'Earth'],\n",
    "\n",
    "    'Kabina': ['F/0/5', 'B/1/P', 'B/1/P', 'B/1/P', 'F/1/P', 'G/1/S', 'F/3/P', 'F/4/P', 'F/5/P', 'G/0/P', 'F/6/P', 'E/0/S', 'E/0/S', 'E/0/S', 'E/0/S', 'E/0/S', 'C/2/S', 'F/6/S', 'C/0/P', 'F/9/P', 'F/9/P', 'D/1/S', 'G/3/P', 'G/7/S'],\n",
    "\n",
    "    'Destinacija': ['TRAPPIST-1e', '55 Cancri e', 'TRAPPIST-1e', '55 Cancri e', 'TRAPPIST-1e', 'TRAPPIST-1e', '55 Cancri e', '55 Cancri e', 'TRAPPIST-1e', 'TRAPPIST-1e', '55 Cancri e', 'TRAPPIST-1e', '55 Cancri e', 'TRAPPIST-1e', 'PSO J318.5-22', 'TRAPPIST-1e', 'TRAPPIST-1e', 'TRAPPIST-1e', '55 Cancri e', 'TRAPPIST-1e', 'TRAPPIST-1e', '55 Cancri e', 'PSO J318.5-22', 'PSO J318.5-22'],\n",
    "\n",
    "    'Starost': [24, 14, 34, 45, 32, 48, 27, 24, 45, 0, 14, 1, 49, 10, 1, 7, 62, 15, 34, 47, 2, 28, 21, 36],\n",
    "\n",
    "    'VIP': [False, False, False, False, False, False, False, False, False, False, False, False, False, False, False, False, False, False, False, False, False, False, False, False],\n",
    "\n",
    "    'Ime': ['Juanna Vines', 'Erraiam Flatic', 'Altmair Flatic', 'Wezena Flatic', 'Berens Barne', 'Rensey Baketton', 'Flats Eccle', 'Carry Hugh', 'Alus Upread',  'Lyde Brightt', 'Philda Brightt', 'Almary Bratmaez', 'Glendy Bratmaez', 'Brenley Jacostanley', 'Mael Brantuarez', 'Terta Mcfaddemnon', 'Penton Fullided', 'Karard Brookenson', 'Anoyoni Unconsary', 'Coobix Datie', 'Cinets Datie', 'Ziba Qingwhedly', 'Cassa Cooperlandez', 'Warry Ayalazquez'],\n",
    "\n",
    "    'Da li je prevezen': [True, True, True, True, True, False, False, False, True, True, False, False, False, True, False, False, True, False, False, True, True, True, True, False]\n",
    "}\n",
    "\n",
    "df = pd.DataFrame(data)"
   ],
   "metadata": {
    "collapsed": false,
    "ExecuteTime": {
     "end_time": "2023-06-15T07:27:35.758777700Z",
     "start_time": "2023-06-15T07:27:35.727199600Z"
    }
   }
  },
  {
   "cell_type": "code",
   "execution_count": 131,
   "outputs": [],
   "source": [
    "# Predprocesiranje podataka (kodiranje kategoričkih varijabli ili normalizacija numeričkih varijabli)\n",
    "label_encoder = LabelEncoder()\n",
    "df['Maticna planeta'] = label_encoder.fit_transform(df['Maticna planeta']) #kodiranje 'Maticna' Planeta kolone\n",
    "df['Kabina'] = label_encoder.fit_transform(df['Kabina']) #Kodiranje 'Kabina' kolone\n",
    "df['Destinacija'] = label_encoder.fit_transform(df['Destinacija']) #Kodiranje 'Destinacija' kolone"
   ],
   "metadata": {
    "collapsed": false,
    "ExecuteTime": {
     "end_time": "2023-06-15T07:27:35.796303900Z",
     "start_time": "2023-06-15T07:27:35.732342100Z"
    }
   }
  },
  {
   "cell_type": "code",
   "execution_count": 132,
   "outputs": [],
   "source": [
    "X = df.drop(['Da li je prevezen', 'Ime'], axis=1)\n",
    "y = df['Da li je prevezen']\n",
    "\n",
    "# Podjela podataka na skupove za treniranje i testiranje\n",
    "X_train, X_test, y_train, y_test = train_test_split(X, y, test_size=0.25, random_state=17)"
   ],
   "metadata": {
    "collapsed": false,
    "ExecuteTime": {
     "end_time": "2023-06-15T07:27:35.796303900Z",
     "start_time": "2023-06-15T07:27:35.758777700Z"
    }
   }
  },
  {
   "cell_type": "code",
   "execution_count": 133,
   "outputs": [],
   "source": [
    "from sklearn.feature_selection import f_classif\n",
    "\n",
    "def partition_node(X, y):\n",
    "    best_pvalue = np.inf\n",
    "    best_feature = None\n",
    "    best_split_value = None\n",
    "\n",
    "    for feature in X.columns:\n",
    "        f_scores, p_values = f_classif(X[[feature]], y)\n",
    "        pvalue = p_values[0]\n",
    "        if pvalue < best_pvalue:\n",
    "            best_pvalue = pvalue\n",
    "            best_feature = feature\n",
    "            best_split_value = X[feature].mean()\n",
    "\n",
    "    if best_feature is None:\n",
    "        # Leaf node\n",
    "        return y.mode().iloc[0]\n",
    "\n",
    "    left_indices = list(X[best_feature] <= best_split_value)\n",
    "    right_indices = list(X[best_feature] > best_split_value)\n",
    "\n",
    "    return best_feature, best_split_value, left_indices, right_indices"
   ],
   "metadata": {
    "collapsed": false,
    "ExecuteTime": {
     "end_time": "2023-06-15T07:27:35.796303900Z",
     "start_time": "2023-06-15T07:27:35.758777700Z"
    }
   }
  },
  {
   "cell_type": "code",
   "execution_count": 134,
   "outputs": [],
   "source": [
    "def build_tree(X, y):\n",
    "    feature, split_value, left_indices, right_indices = partition_node(X, y)\n",
    "\n",
    "    if feature is None:\n",
    "        # Leaf node\n",
    "        return y.mode().iloc[0]\n",
    "\n",
    "    left_X = X.loc[left_indices]\n",
    "    left_y = y.loc[left_indices]\n",
    "    right_X = X.loc[right_indices]\n",
    "    right_y = y.loc[right_indices]\n",
    "\n",
    "    tree = {\n",
    "        'feature': feature,\n",
    "        'split_value': split_value,\n",
    "        'left': build_tree(left_X, left_y),\n",
    "        'right': build_tree(right_X, right_y)\n",
    "    }\n",
    "\n",
    "    return tree"
   ],
   "metadata": {
    "collapsed": false,
    "ExecuteTime": {
     "end_time": "2023-06-15T07:27:35.796303900Z",
     "start_time": "2023-06-15T07:27:35.774607800Z"
    }
   }
  },
  {
   "cell_type": "code",
   "execution_count": 135,
   "outputs": [
    {
     "name": "stderr",
     "output_type": "stream",
     "text": [
      "C:\\Users\\eriss\\AppData\\Local\\Programs\\Python\\Python311\\Lib\\site-packages\\sklearn\\feature_selection\\_univariate_selection.py:112: UserWarning: Features [0] are constant.\n",
      "  warnings.warn(\"Features %s are constant.\" % constant_features_idx, UserWarning)\n",
      "C:\\Users\\eriss\\AppData\\Local\\Programs\\Python\\Python311\\Lib\\site-packages\\sklearn\\feature_selection\\_univariate_selection.py:113: RuntimeWarning: invalid value encountered in divide\n",
      "  f = msb / msw\n",
      "C:\\Users\\eriss\\AppData\\Local\\Programs\\Python\\Python311\\Lib\\site-packages\\sklearn\\feature_selection\\_univariate_selection.py:112: UserWarning: Features [0] are constant.\n",
      "  warnings.warn(\"Features %s are constant.\" % constant_features_idx, UserWarning)\n",
      "C:\\Users\\eriss\\AppData\\Local\\Programs\\Python\\Python311\\Lib\\site-packages\\sklearn\\feature_selection\\_univariate_selection.py:113: RuntimeWarning: invalid value encountered in divide\n",
      "  f = msb / msw\n",
      "C:\\Users\\eriss\\AppData\\Local\\Programs\\Python\\Python311\\Lib\\site-packages\\sklearn\\feature_selection\\_univariate_selection.py:112: UserWarning: Features [0] are constant.\n",
      "  warnings.warn(\"Features %s are constant.\" % constant_features_idx, UserWarning)\n",
      "C:\\Users\\eriss\\AppData\\Local\\Programs\\Python\\Python311\\Lib\\site-packages\\sklearn\\feature_selection\\_univariate_selection.py:113: RuntimeWarning: invalid value encountered in divide\n",
      "  f = msb / msw\n",
      "C:\\Users\\eriss\\AppData\\Local\\Programs\\Python\\Python311\\Lib\\site-packages\\sklearn\\feature_selection\\_univariate_selection.py:112: UserWarning: Features [0] are constant.\n",
      "  warnings.warn(\"Features %s are constant.\" % constant_features_idx, UserWarning)\n",
      "C:\\Users\\eriss\\AppData\\Local\\Programs\\Python\\Python311\\Lib\\site-packages\\sklearn\\feature_selection\\_univariate_selection.py:113: RuntimeWarning: invalid value encountered in divide\n",
      "  f = msb / msw\n",
      "C:\\Users\\eriss\\AppData\\Local\\Programs\\Python\\Python311\\Lib\\site-packages\\sklearn\\feature_selection\\_univariate_selection.py:112: UserWarning: Features [0] are constant.\n",
      "  warnings.warn(\"Features %s are constant.\" % constant_features_idx, UserWarning)\n",
      "C:\\Users\\eriss\\AppData\\Local\\Programs\\Python\\Python311\\Lib\\site-packages\\sklearn\\feature_selection\\_univariate_selection.py:113: RuntimeWarning: invalid value encountered in divide\n",
      "  f = msb / msw\n",
      "C:\\Users\\eriss\\AppData\\Local\\Programs\\Python\\Python311\\Lib\\site-packages\\sklearn\\feature_selection\\_univariate_selection.py:108: RuntimeWarning: invalid value encountered in divide\n",
      "  msb = ssbn / float(dfbn)\n",
      "C:\\Users\\eriss\\AppData\\Local\\Programs\\Python\\Python311\\Lib\\site-packages\\sklearn\\feature_selection\\_univariate_selection.py:108: RuntimeWarning: invalid value encountered in divide\n",
      "  msb = ssbn / float(dfbn)\n",
      "C:\\Users\\eriss\\AppData\\Local\\Programs\\Python\\Python311\\Lib\\site-packages\\sklearn\\feature_selection\\_univariate_selection.py:108: RuntimeWarning: invalid value encountered in divide\n",
      "  msb = ssbn / float(dfbn)\n",
      "C:\\Users\\eriss\\AppData\\Local\\Programs\\Python\\Python311\\Lib\\site-packages\\sklearn\\feature_selection\\_univariate_selection.py:108: RuntimeWarning: invalid value encountered in divide\n",
      "  msb = ssbn / float(dfbn)\n",
      "C:\\Users\\eriss\\AppData\\Local\\Programs\\Python\\Python311\\Lib\\site-packages\\sklearn\\feature_selection\\_univariate_selection.py:108: RuntimeWarning: invalid value encountered in divide\n",
      "  msb = ssbn / float(dfbn)\n"
     ]
    },
    {
     "ename": "TypeError",
     "evalue": "cannot unpack non-iterable numpy.bool_ object",
     "output_type": "error",
     "traceback": [
      "\u001B[1;31m---------------------------------------------------------------------------\u001B[0m",
      "\u001B[1;31mTypeError\u001B[0m                                 Traceback (most recent call last)",
      "Cell \u001B[1;32mIn[135], line 2\u001B[0m\n\u001B[0;32m      1\u001B[0m \u001B[38;5;66;03m# Izgradnja stabla odlučivanja na osnovu odabranih atributa\u001B[39;00m\n\u001B[1;32m----> 2\u001B[0m tree \u001B[38;5;241m=\u001B[39m \u001B[43mbuild_tree\u001B[49m\u001B[43m(\u001B[49m\u001B[43mX_train\u001B[49m\u001B[43m,\u001B[49m\u001B[43m \u001B[49m\u001B[43my_train\u001B[49m\u001B[43m)\u001B[49m\n",
      "Cell \u001B[1;32mIn[134], line 16\u001B[0m, in \u001B[0;36mbuild_tree\u001B[1;34m(X, y)\u001B[0m\n\u001B[0;32m     10\u001B[0m right_X \u001B[38;5;241m=\u001B[39m X\u001B[38;5;241m.\u001B[39mloc[right_indices]\n\u001B[0;32m     11\u001B[0m right_y \u001B[38;5;241m=\u001B[39m y\u001B[38;5;241m.\u001B[39mloc[right_indices]\n\u001B[0;32m     13\u001B[0m tree \u001B[38;5;241m=\u001B[39m {\n\u001B[0;32m     14\u001B[0m     \u001B[38;5;124m'\u001B[39m\u001B[38;5;124mfeature\u001B[39m\u001B[38;5;124m'\u001B[39m: feature,\n\u001B[0;32m     15\u001B[0m     \u001B[38;5;124m'\u001B[39m\u001B[38;5;124msplit_value\u001B[39m\u001B[38;5;124m'\u001B[39m: split_value,\n\u001B[1;32m---> 16\u001B[0m     \u001B[38;5;124m'\u001B[39m\u001B[38;5;124mleft\u001B[39m\u001B[38;5;124m'\u001B[39m: \u001B[43mbuild_tree\u001B[49m\u001B[43m(\u001B[49m\u001B[43mleft_X\u001B[49m\u001B[43m,\u001B[49m\u001B[43m \u001B[49m\u001B[43mleft_y\u001B[49m\u001B[43m)\u001B[49m,\n\u001B[0;32m     17\u001B[0m     \u001B[38;5;124m'\u001B[39m\u001B[38;5;124mright\u001B[39m\u001B[38;5;124m'\u001B[39m: build_tree(right_X, right_y)\n\u001B[0;32m     18\u001B[0m }\n\u001B[0;32m     20\u001B[0m \u001B[38;5;28;01mreturn\u001B[39;00m tree\n",
      "Cell \u001B[1;32mIn[134], line 16\u001B[0m, in \u001B[0;36mbuild_tree\u001B[1;34m(X, y)\u001B[0m\n\u001B[0;32m     10\u001B[0m right_X \u001B[38;5;241m=\u001B[39m X\u001B[38;5;241m.\u001B[39mloc[right_indices]\n\u001B[0;32m     11\u001B[0m right_y \u001B[38;5;241m=\u001B[39m y\u001B[38;5;241m.\u001B[39mloc[right_indices]\n\u001B[0;32m     13\u001B[0m tree \u001B[38;5;241m=\u001B[39m {\n\u001B[0;32m     14\u001B[0m     \u001B[38;5;124m'\u001B[39m\u001B[38;5;124mfeature\u001B[39m\u001B[38;5;124m'\u001B[39m: feature,\n\u001B[0;32m     15\u001B[0m     \u001B[38;5;124m'\u001B[39m\u001B[38;5;124msplit_value\u001B[39m\u001B[38;5;124m'\u001B[39m: split_value,\n\u001B[1;32m---> 16\u001B[0m     \u001B[38;5;124m'\u001B[39m\u001B[38;5;124mleft\u001B[39m\u001B[38;5;124m'\u001B[39m: \u001B[43mbuild_tree\u001B[49m\u001B[43m(\u001B[49m\u001B[43mleft_X\u001B[49m\u001B[43m,\u001B[49m\u001B[43m \u001B[49m\u001B[43mleft_y\u001B[49m\u001B[43m)\u001B[49m,\n\u001B[0;32m     17\u001B[0m     \u001B[38;5;124m'\u001B[39m\u001B[38;5;124mright\u001B[39m\u001B[38;5;124m'\u001B[39m: build_tree(right_X, right_y)\n\u001B[0;32m     18\u001B[0m }\n\u001B[0;32m     20\u001B[0m \u001B[38;5;28;01mreturn\u001B[39;00m tree\n",
      "Cell \u001B[1;32mIn[134], line 16\u001B[0m, in \u001B[0;36mbuild_tree\u001B[1;34m(X, y)\u001B[0m\n\u001B[0;32m     10\u001B[0m right_X \u001B[38;5;241m=\u001B[39m X\u001B[38;5;241m.\u001B[39mloc[right_indices]\n\u001B[0;32m     11\u001B[0m right_y \u001B[38;5;241m=\u001B[39m y\u001B[38;5;241m.\u001B[39mloc[right_indices]\n\u001B[0;32m     13\u001B[0m tree \u001B[38;5;241m=\u001B[39m {\n\u001B[0;32m     14\u001B[0m     \u001B[38;5;124m'\u001B[39m\u001B[38;5;124mfeature\u001B[39m\u001B[38;5;124m'\u001B[39m: feature,\n\u001B[0;32m     15\u001B[0m     \u001B[38;5;124m'\u001B[39m\u001B[38;5;124msplit_value\u001B[39m\u001B[38;5;124m'\u001B[39m: split_value,\n\u001B[1;32m---> 16\u001B[0m     \u001B[38;5;124m'\u001B[39m\u001B[38;5;124mleft\u001B[39m\u001B[38;5;124m'\u001B[39m: \u001B[43mbuild_tree\u001B[49m\u001B[43m(\u001B[49m\u001B[43mleft_X\u001B[49m\u001B[43m,\u001B[49m\u001B[43m \u001B[49m\u001B[43mleft_y\u001B[49m\u001B[43m)\u001B[49m,\n\u001B[0;32m     17\u001B[0m     \u001B[38;5;124m'\u001B[39m\u001B[38;5;124mright\u001B[39m\u001B[38;5;124m'\u001B[39m: build_tree(right_X, right_y)\n\u001B[0;32m     18\u001B[0m }\n\u001B[0;32m     20\u001B[0m \u001B[38;5;28;01mreturn\u001B[39;00m tree\n",
      "Cell \u001B[1;32mIn[134], line 2\u001B[0m, in \u001B[0;36mbuild_tree\u001B[1;34m(X, y)\u001B[0m\n\u001B[0;32m      1\u001B[0m \u001B[38;5;28;01mdef\u001B[39;00m \u001B[38;5;21mbuild_tree\u001B[39m(X, y):\n\u001B[1;32m----> 2\u001B[0m     feature, split_value, left_indices, right_indices \u001B[38;5;241m=\u001B[39m partition_node(X, y)\n\u001B[0;32m      4\u001B[0m     \u001B[38;5;28;01mif\u001B[39;00m feature \u001B[38;5;129;01mis\u001B[39;00m \u001B[38;5;28;01mNone\u001B[39;00m:\n\u001B[0;32m      5\u001B[0m         \u001B[38;5;66;03m# Leaf node\u001B[39;00m\n\u001B[0;32m      6\u001B[0m         \u001B[38;5;28;01mreturn\u001B[39;00m y\u001B[38;5;241m.\u001B[39mmode()\u001B[38;5;241m.\u001B[39miloc[\u001B[38;5;241m0\u001B[39m]\n",
      "\u001B[1;31mTypeError\u001B[0m: cannot unpack non-iterable numpy.bool_ object"
     ]
    }
   ],
   "source": [
    "# Izgradnja stabla odlučivanja na osnovu odabranih atributa\n",
    "tree = build_tree(X_train, y_train)"
   ],
   "metadata": {
    "collapsed": false,
    "ExecuteTime": {
     "end_time": "2023-06-15T07:27:35.902941200Z",
     "start_time": "2023-06-15T07:27:35.777117900Z"
    }
   }
  },
  {
   "cell_type": "code",
   "execution_count": null,
   "outputs": [],
   "source": [],
   "metadata": {
    "collapsed": false
   }
  }
 ],
 "metadata": {
  "kernelspec": {
   "display_name": "Python 3",
   "language": "python",
   "name": "python3"
  },
  "language_info": {
   "codemirror_mode": {
    "name": "ipython",
    "version": 2
   },
   "file_extension": ".py",
   "mimetype": "text/x-python",
   "name": "python",
   "nbconvert_exporter": "python",
   "pygments_lexer": "ipython2",
   "version": "2.7.6"
  }
 },
 "nbformat": 4,
 "nbformat_minor": 0
}
