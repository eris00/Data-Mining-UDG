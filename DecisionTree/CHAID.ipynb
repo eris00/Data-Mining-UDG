{
 "cells": [
  {
   "cell_type": "code",
   "execution_count": 19,
   "outputs": [],
   "source": [
    "from sklearn.tree import DecisionTreeClassifier\n",
    "from sklearn.tree import plot_tree"
   ],
   "metadata": {
    "collapsed": false,
    "ExecuteTime": {
     "end_time": "2023-06-07T02:46:35.705158300Z",
     "start_time": "2023-06-07T02:46:35.693500900Z"
    }
   }
  },
  {
   "cell_type": "code",
   "execution_count": 20,
   "outputs": [],
   "source": [
    "# Hardkodirani dataset\n",
    "X = [\n",
    "    ['Mars', 'F/0/5', 'TRAPPIST-1e', 30, False],\n",
    "    ['Venera', 'F/1/2', 'Proxima Centauri b', 45, True],\n",
    "    ['Jupiter', 'M/4/7', 'Kepler-452b', 22, False],\n",
    "    ['Mars', 'F/0/5', 'TRAPPIST-1e', 35, False],\n",
    "    ['Saturn', 'M/2/1', 'TRAPPIST-1f', 28, True],\n",
    "    ['Merkur', 'F/3/6', 'Proxima Centauri b', 52, True]\n",
    "]"
   ],
   "metadata": {
    "collapsed": false,
    "ExecuteTime": {
     "end_time": "2023-06-07T02:46:35.729305900Z",
     "start_time": "2023-06-07T02:46:35.705158300Z"
    }
   }
  },
  {
   "cell_type": "code",
   "execution_count": 21,
   "outputs": [],
   "source": [
    "y = [0, 0, 1, 1, 1, 0]  # Klasifikacioni target"
   ],
   "metadata": {
    "collapsed": false,
    "ExecuteTime": {
     "end_time": "2023-06-07T02:46:35.729305900Z",
     "start_time": "2023-06-07T02:46:35.715276800Z"
    }
   }
  },
  {
   "cell_type": "code",
   "execution_count": 24,
   "outputs": [
    {
     "ename": "ModuleNotFoundError",
     "evalue": "No module named 'statsmodels'",
     "output_type": "error",
     "traceback": [
      "\u001B[1;31m---------------------------------------------------------------------------\u001B[0m",
      "\u001B[1;31mModuleNotFoundError\u001B[0m                       Traceback (most recent call last)",
      "Cell \u001B[1;32mIn[24], line 2\u001B[0m\n\u001B[0;32m      1\u001B[0m \u001B[38;5;28;01mimport\u001B[39;00m \u001B[38;5;21;01mpandas\u001B[39;00m \u001B[38;5;28;01mas\u001B[39;00m \u001B[38;5;21;01mpd\u001B[39;00m\n\u001B[1;32m----> 2\u001B[0m \u001B[38;5;28;01mimport\u001B[39;00m \u001B[38;5;21;01mstatsmodels\u001B[39;00m\u001B[38;5;21;01m.\u001B[39;00m\u001B[38;5;21;01mapi\u001B[39;00m \u001B[38;5;28;01mas\u001B[39;00m \u001B[38;5;21;01msm\u001B[39;00m\n\u001B[0;32m      4\u001B[0m \u001B[38;5;66;03m# Kreiranje i treniranje CHAID stabla odlučivanja\u001B[39;00m\n\u001B[0;32m      5\u001B[0m clf \u001B[38;5;241m=\u001B[39m sm\u001B[38;5;241m.\u001B[39mdatasets\u001B[38;5;241m.\u001B[39mchaid\u001B[38;5;241m.\u001B[39mfit(df, \u001B[38;5;124m'\u001B[39m\u001B[38;5;124mlabel\u001B[39m\u001B[38;5;124m'\u001B[39m, \u001B[38;5;28mlist\u001B[39m(X\u001B[38;5;241m.\u001B[39mcolumns))\n",
      "\u001B[1;31mModuleNotFoundError\u001B[0m: No module named 'statsmodels'"
     ]
    }
   ],
   "source": [
    "import pandas as pd\n",
    "import statsmodels.api as sm\n",
    "\n",
    "# Kreiranje i treniranje CHAID stabla odlučivanja\n",
    "clf = sm.datasets.chaid.fit(df, 'label', list(X.columns))\n",
    "\n",
    "# Prikazivanje stabla\n",
    "clf.summary()"
   ],
   "metadata": {
    "collapsed": false,
    "ExecuteTime": {
     "end_time": "2023-06-07T02:48:43.592146200Z",
     "start_time": "2023-06-07T02:48:42.468939700Z"
    }
   }
  },
  {
   "cell_type": "code",
   "execution_count": null,
   "outputs": [],
   "source": [],
   "metadata": {
    "collapsed": false
   }
  }
 ],
 "metadata": {
  "kernelspec": {
   "display_name": "Python 3",
   "language": "python",
   "name": "python3"
  },
  "language_info": {
   "codemirror_mode": {
    "name": "ipython",
    "version": 2
   },
   "file_extension": ".py",
   "mimetype": "text/x-python",
   "name": "python",
   "nbconvert_exporter": "python",
   "pygments_lexer": "ipython2",
   "version": "2.7.6"
  }
 },
 "nbformat": 4,
 "nbformat_minor": 0
}
