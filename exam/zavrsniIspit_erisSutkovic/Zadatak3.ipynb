{
 "cells": [
  {
   "cell_type": "code",
   "execution_count": 1,
   "outputs": [],
   "source": [
    "from sklearn.metrics import confusion_matrix\n",
    "import numpy as np\n",
    "from matplotlib import cm"
   ],
   "metadata": {
    "collapsed": false,
    "ExecuteTime": {
     "end_time": "2023-06-08T14:50:18.856772Z",
     "start_time": "2023-06-08T14:50:17.556575900Z"
    }
   }
  },
  {
   "cell_type": "code",
   "execution_count": 2,
   "outputs": [],
   "source": [
    "# Definisanje konfuzijske matrice\n",
    "confusion_matrix = [[59, 250], [4, 1350]]\n",
    "\n",
    "# Oblik matrice: [[TP, FP][FN, TN]]\n"
   ],
   "metadata": {
    "collapsed": false,
    "ExecuteTime": {
     "end_time": "2023-06-08T14:50:18.865638500Z",
     "start_time": "2023-06-08T14:50:18.864305900Z"
    }
   }
  },
  {
   "cell_type": "code",
   "execution_count": 3,
   "outputs": [],
   "source": [
    "# Izračunavanje metrika\n",
    "#tn, fp, fn, tp = confusion_matrix[0][0], confusion_matrix[0][1], confusion_matrix[1][0], confusion_matrix[1][1]\n",
    "tp = 59\n",
    "tn = 1350\n",
    "fp = 250\n",
    "fn = 4"
   ],
   "metadata": {
    "collapsed": false,
    "ExecuteTime": {
     "end_time": "2023-06-08T14:50:18.874284300Z",
     "start_time": "2023-06-08T14:50:18.865638500Z"
    }
   }
  },
  {
   "cell_type": "code",
   "execution_count": 4,
   "outputs": [],
   "source": [
    "# Izracunavanje metrika\n",
    "accuracy = (tp + tn) / (tp + tn + fp + fn)\n",
    "error_rate = (fp + fn) / (tp + tn + fp + fn)\n",
    "sensitivity = tp / (tp + fn)\n"
   ],
   "metadata": {
    "collapsed": false,
    "ExecuteTime": {
     "end_time": "2023-06-08T14:50:18.885642400Z",
     "start_time": "2023-06-08T14:50:18.880311800Z"
    }
   }
  },
  {
   "cell_type": "code",
   "execution_count": 5,
   "outputs": [
    {
     "name": "stdout",
     "output_type": "stream",
     "text": [
      "Konfuzijska matrica:\n",
      "[[59, 250], [4, 1350]]\n",
      "\n",
      "Metrike:\n",
      "Tacnost (Accuracy): 0.8472639807576668\n",
      "Stepen Greske (Error rate): 0.15273601924233313\n",
      "Osjetljivost (Sensitivity): 0.9365079365079365\n"
     ]
    }
   ],
   "source": [
    "# Ispis rezultata\n",
    "print(\"Konfuzijska matrica:\")\n",
    "print(confusion_matrix)\n",
    "print(\"\\nMetrike:\")\n",
    "print(f\"Tacnost (Accuracy): {accuracy}\")\n",
    "print(f\"Stepen Greske (Error rate): {error_rate}\")\n",
    "print(f\"Osjetljivost (Sensitivity): {sensitivity}\")\n"
   ],
   "metadata": {
    "collapsed": false,
    "ExecuteTime": {
     "end_time": "2023-06-08T14:50:18.911838900Z",
     "start_time": "2023-06-08T14:50:18.885642400Z"
    }
   }
  }
 ],
 "metadata": {
  "kernelspec": {
   "display_name": "Python 3",
   "language": "python",
   "name": "python3"
  },
  "language_info": {
   "codemirror_mode": {
    "name": "ipython",
    "version": 2
   },
   "file_extension": ".py",
   "mimetype": "text/x-python",
   "name": "python",
   "nbconvert_exporter": "python",
   "pygments_lexer": "ipython2",
   "version": "2.7.6"
  }
 },
 "nbformat": 4,
 "nbformat_minor": 0
}
