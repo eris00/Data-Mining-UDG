{
 "cells": [
  {
   "cell_type": "code",
   "execution_count": null,
   "metadata": {
    "collapsed": true
   },
   "outputs": [],
   "source": [
    "import numpy as np\n",
    "from scipy.cluster.hierarchy import dendrogram, linkage\n",
    "import matplotlib.pyplot as plt\n"
   ]
  },
  {
   "cell_type": "code",
   "execution_count": null,
   "outputs": [],
   "source": [
    "# Definisanje primjera\n",
    "D = {'a': np.array([2, 0]),\n",
    "     'b': np.array([7, 1]),\n",
    "     'c': np.array([4, 1]),\n",
    "     'd': np.array([3, 3]),\n",
    "     'e': np.array([2, 4]),\n",
    "     'f': np.array([5, 6])}"
   ],
   "metadata": {
    "collapsed": false
   }
  },
  {
   "cell_type": "code",
   "execution_count": null,
   "outputs": [],
   "source": [
    "# Pretvaranje u matircu\n",
    "X = np.array(list(D.values()))"
   ],
   "metadata": {
    "collapsed": false
   }
  },
  {
   "cell_type": "code",
   "execution_count": null,
   "outputs": [],
   "source": [
    "# Aglomerativno grupisanje s jednostrukim povezivanjem\n",
    "Z = linkage(X, method='single')"
   ],
   "metadata": {
    "collapsed": false
   }
  },
  {
   "cell_type": "code",
   "execution_count": null,
   "outputs": [],
   "source": [
    "# Crtanje dendrograma\n",
    "plt.figure(figsize=(8, 6))\n",
    "dendrogram(Z, labels=list(D.keys()), color_threshold=0)\n",
    "plt.xlabel('Primjeri')\n",
    "plt.ylabel('Udaljenost')\n",
    "plt.title('Dendrogram aglomerativnog grupiranja')\n",
    "plt.show()"
   ],
   "metadata": {
    "collapsed": false
   }
  }
 ],
 "metadata": {
  "kernelspec": {
   "display_name": "Python 3",
   "language": "python",
   "name": "python3"
  },
  "language_info": {
   "codemirror_mode": {
    "name": "ipython",
    "version": 2
   },
   "file_extension": ".py",
   "mimetype": "text/x-python",
   "name": "python",
   "nbconvert_exporter": "python",
   "pygments_lexer": "ipython2",
   "version": "2.7.6"
  }
 },
 "nbformat": 4,
 "nbformat_minor": 0
}
